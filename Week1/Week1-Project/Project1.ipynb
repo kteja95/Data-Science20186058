{
 "cells": [
  {
   "cell_type": "markdown",
   "metadata": {},
   "source": [
    "# CS 109A/STAT 121A/AC 209A/CSCI E-109A: Homework 1\n",
    "\n",
    "\n",
    "\n",
    "**Harvard University**<br/>\n",
    "**Fall 2017**<br/>\n",
    "**Instructors**: Pavlos Protopapas, Kevin Rader, Rahul Dave, Margo Levine\n",
    "\n",
    "---\n",
    "\n",
    "### INSTRUCTIONS\n",
    "\n",
    "**WARNING**: There is web page scraping in this homework. It takes about 40 minutes. **Do not wait till the last minute** to do this homework.\n",
    "\n",
    "- To submit your assignment follow the instructions given in canvas.\n",
    "- Restart the kernel and run the whole notebook again before you submit. There is an important CAVEAT to this. DO NOT run the web-page fetching cells again. (We have provided hints like `# DO NOT RERUN THIS CELL WHEN SUBMITTING` on some of the cells where we provide the code). Instead load your data structures from the JSON files we will ask you to save below. Otherwise you will be waiting for a long time. (Another reason to not wait until the last moment to submit.)\n",
    "\n",
    "- Do not include your name in the notebook.\n",
    "\n",
    "---"
   ]
  },
  {
   "cell_type": "markdown",
   "metadata": {},
   "source": [
    "# Homework 1: Rihanna or Mariah?"
   ]
  },
  {
   "cell_type": "markdown",
   "metadata": {},
   "source": [
    "Billboard Magazine puts out a top 100 list of \"singles\" every week. Information from this list, as well as that from music sales, radio, and other sources is used to determine a top-100 \"singles\" of the year list. A **single** is typically one song, but sometimes can be two songs which are on one \"single\" record.\n",
    "\n",
    "In this homework you will: \n",
    "\n",
    "1. Scrape Wikipedia to obtain infprmation about the best singers and groups from each year (distinguishing between the two groups) as determined by the Billboard top 100 charts. You will have to clean this data. Along the way you will learn how to save data in json files to avoid repeated scraping. \n",
    "2. Scrape Wikipedia to obtain information on these singers. You will have to scrape the web pages, this time using a cache to guard against network timeouts (or your laptop going to sleep). You will again clean the data, and save it to a json file.\n",
    "3. Use pandas to represent these two datasets and merge them.\n",
    "4. Use the individual and merged datasets to visualize the performance of the artists and their songs. We have kept the amount of analysis limited here for reasons of time; but you might enjoy exploring music genres and other aspects of the music business you can find on these wikipedia pages at your own leisure."
   ]
  },
  {
   "cell_type": "markdown",
   "metadata": {},
   "source": [
    "You should have worked through Lab0 and Lab 1, and Lecture 2.  Lab 2 will help as well."
   ]
  },
  {
   "cell_type": "markdown",
   "metadata": {},
   "source": [
    "As usual, first we import the necessary libraries.  In particular, we use [Seaborn](http://stanford.edu/~mwaskom/software/seaborn/) to give us a nicer default color palette, with our plots being of large (`poster`) size and with a white-grid background. "
   ]
  },
  {
   "cell_type": "code",
   "execution_count": 1,
   "metadata": {
    "scrolled": false
   },
   "outputs": [],
   "source": [
    "%matplotlib inline\n",
    "import numpy as np\n",
    "import scipy as sp\n",
    "import matplotlib as mpl\n",
    "import matplotlib.cm as cm\n",
    "import matplotlib.pyplot as plt\n",
    "import pandas as pd\n",
    "import time\n",
    "pd.set_option('display.width', 500)\n",
    "pd.set_option('display.max_columns', 100)\n",
    "pd.set_option('display.notebook_repr_html', True)\n",
    "import seaborn as sns\n",
    "sns.set_style(\"whitegrid\")\n",
    "sns.set_context(\"poster\")"
   ]
  },
  {
   "cell_type": "markdown",
   "metadata": {},
   "source": [
    "## Q1. Scraping Wikipedia for Billboard Top 100."
   ]
  },
  {
   "cell_type": "code",
   "execution_count": 24,
   "metadata": {},
   "outputs": [],
   "source": [
    "import requests\n",
    "req = requests.get(\" http://en.wikipedia.org/wiki/Billboard_Year-End_Hot_100_singles_of_1970\")\n",
    "from bs4 import BeautifulSoup\n",
    "page = req.text\n",
    "soup = BeautifulSoup(page, 'html.parser')\n",
    "# print(soup.table[\"class\"])\n",
    "table_html = soup.find('table', attrs = {'class':'wikitable sortable'})"
   ]
  },
  {
   "cell_type": "code",
   "execution_count": 16,
   "metadata": {},
   "outputs": [
    {
     "data": {
      "text/plain": [
       "[<tr>\n",
       " <td>1</td>\n",
       " <td>\"<a class=\"mw-redirect\" href=\"/wiki/Bridge_Over_Troubled_Water_(song)\" title=\"Bridge Over Troubled Water (song)\">Bridge Over Troubled Water</a>\"</td>\n",
       " <td><a href=\"/wiki/Simon_%26_Garfunkel\" title=\"Simon &amp; Garfunkel\">Simon &amp; Garfunkel</a>\n",
       " </td></tr>, <tr>\n",
       " <td>2</td>\n",
       " <td>\"<a href=\"/wiki/(They_Long_to_Be)_Close_to_You\" title=\"(They Long to Be) Close to You\">(They Long to Be) Close to You</a>\"</td>\n",
       " <td><a href=\"/wiki/The_Carpenters\" title=\"The Carpenters\">The Carpenters</a>\n",
       " </td></tr>, <tr>\n",
       " <td>3</td>\n",
       " <td>\"<a href=\"/wiki/American_Woman\" title=\"American Woman\">American Woman</a>\"</td>\n",
       " <td><a href=\"/wiki/The_Guess_Who\" title=\"The Guess Who\">The Guess Who</a>\n",
       " </td></tr>, <tr>\n",
       " <td>4</td>\n",
       " <td>\"<a href=\"/wiki/Raindrops_Keep_Fallin%27_on_My_Head\" title=\"Raindrops Keep Fallin' on My Head\">Raindrops Keep Fallin' on My Head</a>\"</td>\n",
       " <td><a class=\"mw-redirect\" href=\"/wiki/B.J._Thomas\" title=\"B.J. Thomas\">B.J. Thomas</a>\n",
       " </td></tr>, <tr>\n",
       " <td>5</td>\n",
       " <td>\"<a href=\"/wiki/War_(The_Temptations_song)#Edwin_Starr_version\" title=\"War (The Temptations song)\">War</a>\"</td>\n",
       " <td><a href=\"/wiki/Edwin_Starr\" title=\"Edwin Starr\">Edwin Starr</a>\n",
       " </td></tr>, <tr>\n",
       " <td>6</td>\n",
       " <td>\"<a href=\"/wiki/Ain%27t_No_Mountain_High_Enough\" title=\"Ain't No Mountain High Enough\">Ain't No Mountain High Enough</a>\"</td>\n",
       " <td><a href=\"/wiki/Diana_Ross\" title=\"Diana Ross\">Diana Ross</a>\n",
       " </td></tr>, <tr>\n",
       " <td>7</td>\n",
       " <td>\"<a href=\"/wiki/I%27ll_Be_There_(The_Jackson_5_song)\" title=\"I'll Be There (The Jackson 5 song)\">I'll Be There</a>\"</td>\n",
       " <td><a href=\"/wiki/The_Jackson_5\" title=\"The Jackson 5\">The Jackson 5</a>\n",
       " </td></tr>, <tr>\n",
       " <td>8</td>\n",
       " <td>\"<a href=\"/wiki/Get_Ready_(The_Temptations_song)#Rare_Earth_version\" title=\"Get Ready (The Temptations song)\">Get Ready</a>\"</td>\n",
       " <td><a href=\"/wiki/Rare_Earth_(band)\" title=\"Rare Earth (band)\">Rare Earth</a>\n",
       " </td></tr>, <tr>\n",
       " <td>9</td>\n",
       " <td>\"<a href=\"/wiki/Let_It_Be_(Beatles_song)\" title=\"Let It Be (Beatles song)\">Let It Be</a>\"</td>\n",
       " <td><a href=\"/wiki/The_Beatles\" title=\"The Beatles\">The Beatles</a>\n",
       " </td></tr>, <tr>\n",
       " <td>10</td>\n",
       " <td>\"<a href=\"/wiki/Band_of_Gold_(Freda_Payne_song)\" title=\"Band of Gold (Freda Payne song)\">Band of Gold</a>\"</td>\n",
       " <td><a href=\"/wiki/Freda_Payne\" title=\"Freda Payne\">Freda Payne</a>\n",
       " </td></tr>, <tr>\n",
       " <td>11</td>\n",
       " <td>\"<a href=\"/wiki/Mama_Told_Me_Not_to_Come\" title=\"Mama Told Me Not to Come\">Mama Told Me (Not to Come)</a>\"</td>\n",
       " <td><a href=\"/wiki/Three_Dog_Night\" title=\"Three Dog Night\">Three Dog Night</a>\n",
       " </td></tr>, <tr>\n",
       " <td>12</td>\n",
       " <td>\"<a href=\"/wiki/Everything_Is_Beautiful\" title=\"Everything Is Beautiful\">Everything Is Beautiful</a>\"</td>\n",
       " <td><a href=\"/wiki/Ray_Stevens\" title=\"Ray Stevens\">Ray Stevens</a>\n",
       " </td></tr>, <tr>\n",
       " <td>13</td>\n",
       " <td>\"<a href=\"/wiki/Make_It_with_You\" title=\"Make It with You\">Make It with You</a>\"</td>\n",
       " <td><a href=\"/wiki/Bread_(band)\" title=\"Bread (band)\">Bread</a>\n",
       " </td></tr>, <tr>\n",
       " <td>14</td>\n",
       " <td>\"<a href=\"/wiki/Hitchin%27_a_Ride_(Vanity_Fare_song)\" title=\"Hitchin' a Ride (Vanity Fare song)\">Hitchin' a Ride</a>\"</td>\n",
       " <td><a href=\"/wiki/Vanity_Fare\" title=\"Vanity Fare\">Vanity Fare</a>\n",
       " </td></tr>, <tr>\n",
       " <td>15</td>\n",
       " <td>\"<a href=\"/wiki/ABC_(The_Jackson_5_song)\" title=\"ABC (The Jackson 5 song)\">ABC</a>\"</td>\n",
       " <td><a href=\"/wiki/The_Jackson_5\" title=\"The Jackson 5\">The Jackson 5</a>\n",
       " </td></tr>, <tr>\n",
       " <td>16</td>\n",
       " <td>\"<a href=\"/wiki/The_Love_You_Save\" title=\"The Love You Save\">The Love You Save</a>\"</td>\n",
       " <td><a href=\"/wiki/The_Jackson_5\" title=\"The Jackson 5\">The Jackson 5</a>\n",
       " </td></tr>, <tr>\n",
       " <td>17</td>\n",
       " <td>\"<a href=\"/wiki/Cracklin%27_Rosie\" title=\"Cracklin' Rosie\">Cracklin' Rosie</a>\"</td>\n",
       " <td><a href=\"/wiki/Neil_Diamond\" title=\"Neil Diamond\">Neil Diamond</a>\n",
       " </td></tr>, <tr>\n",
       " <td>18</td>\n",
       " <td>\"<a href=\"/wiki/Candida_(song)\" title=\"Candida (song)\">Candida</a>\"</td>\n",
       " <td><a href=\"/wiki/Tony_Orlando_and_Dawn\" title=\"Tony Orlando and Dawn\">Dawn</a>\n",
       " </td></tr>, <tr>\n",
       " <td>19</td>\n",
       " <td>\"<a href=\"/wiki/Thank_You_(Falettinme_Be_Mice_Elf_Agin)\" title=\"Thank You (Falettinme Be Mice Elf Agin)\">Thank You (Falettinme Be Mice Elf Agin)</a>\"</td>\n",
       " <td><a class=\"mw-redirect\" href=\"/wiki/Sly_%26_the_Family_Stone\" title=\"Sly &amp; the Family Stone\">Sly &amp; the Family Stone</a>\n",
       " </td></tr>, <tr>\n",
       " <td>20</td>\n",
       " <td>\"<a href=\"/wiki/Spill_the_Wine\" title=\"Spill the Wine\">Spill the Wine</a>\"</td>\n",
       " <td><a href=\"/wiki/Eric_Burdon\" title=\"Eric Burdon\">Eric Burdon</a> &amp; <a class=\"mw-redirect\" href=\"/wiki/War_(U.S._band)\" title=\"War (U.S. band)\">War</a>\n",
       " </td></tr>, <tr>\n",
       " <td>21</td>\n",
       " <td>\"<a href=\"/wiki/O-o-h_Child\" title=\"O-o-h Child\">O-o-h Child</a>\"</td>\n",
       " <td><a href=\"/wiki/Five_Stairsteps\" title=\"Five Stairsteps\">Five Stairsteps</a>\n",
       " </td></tr>, <tr>\n",
       " <td>22</td>\n",
       " <td>\"<a href=\"/wiki/Spirit_in_the_Sky\" title=\"Spirit in the Sky\">Spirit in the Sky</a>\"</td>\n",
       " <td><a href=\"/wiki/Norman_Greenbaum\" title=\"Norman Greenbaum\">Norman Greenbaum</a>\n",
       " </td></tr>, <tr>\n",
       " <td>23</td>\n",
       " <td>\"<a href=\"/wiki/Lay_Down_(Candles_in_the_Rain)\" title=\"Lay Down (Candles in the Rain)\">Lay Down (Candles in the Rain)</a>\"</td>\n",
       " <td><a class=\"mw-redirect\" href=\"/wiki/Melanie_Safka\" title=\"Melanie Safka\">Melanie</a>\n",
       " </td></tr>, <tr>\n",
       " <td>24</td>\n",
       " <td>\"<a href=\"/wiki/Ball_of_Confusion_(That%27s_What_the_World_Is_Today)\" title=\"Ball of Confusion (That's What the World Is Today)\">Ball of Confusion (That's What the World Is Today)</a>\"</td>\n",
       " <td><a href=\"/wiki/The_Temptations\" title=\"The Temptations\">The Temptations</a>\n",
       " </td></tr>, <tr>\n",
       " <td>25</td>\n",
       " <td>\"<a href=\"/wiki/Love_on_a_Two-Way_Street\" title=\"Love on a Two-Way Street\">Love on a Two-Way Street</a>\"</td>\n",
       " <td><a href=\"/wiki/Ray,_Goodman_%26_Brown\" title=\"Ray, Goodman &amp; Brown\">The Moments</a>\n",
       " </td></tr>, <tr>\n",
       " <td>26</td>\n",
       " <td>\"<a href=\"/wiki/Which_Way_You_Goin%27_Billy%3F_(song)\" title=\"Which Way You Goin' Billy? (song)\">Which Way You Goin' Billy?</a>\"</td>\n",
       " <td><a href=\"/wiki/The_Poppy_Family\" title=\"The Poppy Family\">The Poppy Family</a>\n",
       " </td></tr>, <tr>\n",
       " <td>27</td>\n",
       " <td>\"<a href=\"/wiki/All_Right_Now\" title=\"All Right Now\">All Right Now</a>\"</td>\n",
       " <td><a href=\"/wiki/Free_(band)\" title=\"Free (band)\">Free</a>\n",
       " </td></tr>, <tr>\n",
       " <td>28</td>\n",
       " <td>\"<a href=\"/wiki/I_Want_You_Back\" title=\"I Want You Back\">I Want You Back</a>\"</td>\n",
       " <td><a href=\"/wiki/The_Jackson_5\" title=\"The Jackson 5\">The Jackson 5</a>\n",
       " </td></tr>, <tr>\n",
       " <td>29</td>\n",
       " <td>\"<a href=\"/wiki/Julie,_Do_Ya_Love_Me\" title=\"Julie, Do Ya Love Me\">Julie, Do Ya Love Me</a>\"</td>\n",
       " <td><a href=\"/wiki/Bobby_Sherman\" title=\"Bobby Sherman\">Bobby Sherman</a>\n",
       " </td></tr>, <tr>\n",
       " <td>30</td>\n",
       " <td>\"<a href=\"/wiki/Green-Eyed_Lady\" title=\"Green-Eyed Lady\">Green-Eyed Lady</a>\"</td>\n",
       " <td><a href=\"/wiki/Sugarloaf_(band)\" title=\"Sugarloaf (band)\">Sugarloaf</a>\n",
       " </td></tr>, <tr>\n",
       " <td>31</td>\n",
       " <td>\"<a href=\"/wiki/Signed,_Sealed,_Delivered_I%27m_Yours\" title=\"Signed, Sealed, Delivered I'm Yours\">Signed, Sealed, Delivered I'm Yours</a>\"</td>\n",
       " <td><a href=\"/wiki/Stevie_Wonder\" title=\"Stevie Wonder\">Stevie Wonder</a>\n",
       " </td></tr>, <tr>\n",
       " <td>32</td>\n",
       " <td>\"<a href=\"/wiki/Ride_Captain_Ride\" title=\"Ride Captain Ride\">Ride Captain Ride</a>\"</td>\n",
       " <td><a href=\"/wiki/Blues_Image\" title=\"Blues Image\">Blues Image</a>\n",
       " </td></tr>, <tr>\n",
       " <td>33</td>\n",
       " <td>\"<a href=\"/wiki/Venus_(Shocking_Blue_song)\" title=\"Venus (Shocking Blue song)\">Venus</a>\"</td>\n",
       " <td><a href=\"/wiki/Shocking_Blue\" title=\"Shocking Blue\">Shocking Blue</a>\n",
       " </td></tr>, <tr>\n",
       " <td>34</td>\n",
       " <td>\"<a href=\"/wiki/Instant_Karma!\" title=\"Instant Karma!\">Instant Karma!</a>\"</td>\n",
       " <td><a href=\"/wiki/John_Lennon\" title=\"John Lennon\">John Lennon</a>\n",
       " </td></tr>, <tr>\n",
       " <td>35</td>\n",
       " <td>\"<a href=\"/wiki/Patches_(Chairmen_of_the_Board_song)\" title=\"Patches (Chairmen of the Board song)\">Patches</a>\"</td>\n",
       " <td><a href=\"/wiki/Clarence_Carter\" title=\"Clarence Carter\">Clarence Carter</a>\n",
       " </td></tr>, <tr>\n",
       " <td>36</td>\n",
       " <td>\"<a class=\"mw-redirect\" href=\"/wiki/Lookin%27_out_My_Back_Door\" title=\"Lookin' out My Back Door\">Lookin' out My Back Door</a>\"</td>\n",
       " <td><a href=\"/wiki/Creedence_Clearwater_Revival\" title=\"Creedence Clearwater Revival\">Creedence Clearwater Revival</a>\n",
       " </td></tr>, <tr>\n",
       " <td>37</td>\n",
       " <td>\"<a href=\"/wiki/Rainy_Night_in_Georgia\" title=\"Rainy Night in Georgia\">Rainy Night in Georgia</a>\"</td>\n",
       " <td><a href=\"/wiki/Brook_Benton\" title=\"Brook Benton\">Brook Benton</a>\n",
       " </td></tr>, <tr>\n",
       " <td>38</td>\n",
       " <td>\"<a class=\"mw-redirect\" href=\"/wiki/Something%27s_Burning_(song)\" title=\"Something's Burning (song)\">Something's Burning</a>\"</td>\n",
       " <td><a href=\"/wiki/Kenny_Rogers\" title=\"Kenny Rogers\">Kenny Rogers</a> &amp; <a class=\"mw-redirect\" href=\"/wiki/The_First_Edition_(band)\" title=\"The First Edition (band)\">The First Edition</a>\n",
       " </td></tr>, <tr>\n",
       " <td>39</td>\n",
       " <td>\"<a href=\"/wiki/Give_Me_Just_a_Little_More_Time\" title=\"Give Me Just a Little More Time\">Give Me Just a Little More Time</a>\"</td>\n",
       " <td><a href=\"/wiki/Chairmen_of_the_Board\" title=\"Chairmen of the Board\">Chairmen of the Board</a>\n",
       " </td></tr>, <tr>\n",
       " <td>40</td>\n",
       " <td>\"<a href=\"/wiki/Love_Grows_(Where_My_Rosemary_Goes)\" title=\"Love Grows (Where My Rosemary Goes)\">Love Grows (Where My Rosemary Goes)</a>\"</td>\n",
       " <td><a href=\"/wiki/Edison_Lighthouse\" title=\"Edison Lighthouse\">Edison Lighthouse</a>\n",
       " </td></tr>, <tr>\n",
       " <td>41</td>\n",
       " <td>\"<a href=\"/wiki/The_Long_and_Winding_Road\" title=\"The Long and Winding Road\">The Long and Winding Road</a>\"</td>\n",
       " <td><a href=\"/wiki/The_Beatles\" title=\"The Beatles\">The Beatles</a>\n",
       " </td></tr>, <tr>\n",
       " <td>42</td>\n",
       " <td>\"<a href=\"/wiki/Snowbird_(song)\" title=\"Snowbird (song)\">Snowbird</a>\"</td>\n",
       " <td><a href=\"/wiki/Anne_Murray\" title=\"Anne Murray\">Anne Murray</a>\n",
       " </td></tr>, <tr>\n",
       " <td>43</td>\n",
       " <td>\"<a href=\"/wiki/Reflections_of_My_Life\" title=\"Reflections of My Life\">Reflections of My Life</a>\"</td>\n",
       " <td><a href=\"/wiki/Marmalade_(band)\" title=\"Marmalade (band)\">Marmalade</a>\n",
       " </td></tr>, <tr>\n",
       " <td>44</td>\n",
       " <td>\"<a href=\"/wiki/Hey_There_Lonely_Girl\" title=\"Hey There Lonely Girl\">Hey There Lonely Girl</a>\"</td>\n",
       " <td><a href=\"/wiki/Eddie_Holman\" title=\"Eddie Holman\">Eddie Holman</a>\n",
       " </td></tr>, <tr>\n",
       " <td>45</td>\n",
       " <td>\"<a href=\"/wiki/The_Rapper\" title=\"The Rapper\">The Rapper</a>\"</td>\n",
       " <td><a href=\"/wiki/The_Jaggerz\" title=\"The Jaggerz\">The Jaggerz</a>\n",
       " </td></tr>, <tr>\n",
       " <td>46</td>\n",
       " <td>\"<a href=\"/wiki/He_Ain%27t_Heavy,_He%27s_My_Brother\" title=\"He Ain't Heavy, He's My Brother\">He Ain't Heavy, He's My Brother</a>\"</td>\n",
       " <td><a href=\"/wiki/The_Hollies\" title=\"The Hollies\">The Hollies</a>\n",
       " </td></tr>, <tr>\n",
       " <td>47</td>\n",
       " <td>\"<a href=\"/wiki/Tighter,_Tighter\" title=\"Tighter, Tighter\">Tighter, Tighter</a>\"</td>\n",
       " <td><a href=\"/wiki/Alive_N_Kickin%27\" title=\"Alive N Kickin'\">Alive N Kickin'</a>\n",
       " </td></tr>, <tr>\n",
       " <td>48</td>\n",
       " <td>\"<a href=\"/wiki/Come_and_Get_It_(Badfinger_song)\" title=\"Come and Get It (Badfinger song)\">Come and Get It</a>\"</td>\n",
       " <td><a href=\"/wiki/Badfinger\" title=\"Badfinger\">Badfinger</a>\n",
       " </td></tr>, <tr>\n",
       " <td>49</td>\n",
       " <td>\"<a href=\"/wiki/Cecilia_(Simon_%26_Garfunkel_song)\" title=\"Cecilia (Simon &amp; Garfunkel song)\">Cecilia</a>\"</td>\n",
       " <td><a href=\"/wiki/Simon_%26_Garfunkel\" title=\"Simon &amp; Garfunkel\">Simon &amp; Garfunkel</a>\n",
       " </td></tr>, <tr>\n",
       " <td>50</td>\n",
       " <td>\"<a href=\"/wiki/Love_Land_(song)\" title=\"Love Land (song)\">Love Land</a>\"</td>\n",
       " <td><a href=\"/wiki/Charles_Wright_%26_the_Watts_103rd_Street_Rhythm_Band\" title=\"Charles Wright &amp; the Watts 103rd Street Rhythm Band\">Charles Wright &amp; the Watts 103rd Street Rhythm Band</a>\n",
       " </td></tr>, <tr>\n",
       " <td>51</td>\n",
       " <td>\"<a class=\"mw-redirect\" href=\"/wiki/Turn_Back_the_Hands_of_Time_(song)\" title=\"Turn Back the Hands of Time (song)\">Turn Back the Hands of Time</a>\"</td>\n",
       " <td><a href=\"/wiki/Tyrone_Davis\" title=\"Tyrone Davis\">Tyrone Davis</a>\n",
       " </td></tr>, <tr>\n",
       " <td>52</td>\n",
       " <td>\"<a href=\"/wiki/Lola_(song)\" title=\"Lola (song)\">Lola</a>\"</td>\n",
       " <td><a href=\"/wiki/The_Kinks\" title=\"The Kinks\">The Kinks</a>\n",
       " </td></tr>, <tr>\n",
       " <td>53</td>\n",
       " <td>\"<a class=\"mw-redirect\" href=\"/wiki/In_the_Summertime_(Mungo_Jerry_song)\" title=\"In the Summertime (Mungo Jerry song)\">In the Summertime</a>\"</td>\n",
       " <td><a href=\"/wiki/Mungo_Jerry\" title=\"Mungo Jerry\">Mungo Jerry</a>\n",
       " </td></tr>, <tr>\n",
       " <td>54</td>\n",
       " <td>\"<a href=\"/wiki/Indiana_Wants_Me\" title=\"Indiana Wants Me\">Indiana Wants Me</a>\"</td>\n",
       " <td><a href=\"/wiki/R._Dean_Taylor\" title=\"R. Dean Taylor\">R. Dean Taylor</a>\n",
       " </td></tr>, <tr>\n",
       " <td>55</td>\n",
       " <td>\"<a href=\"/wiki/(I_Know)_I%27m_Losing_You\" title=\"(I Know) I'm Losing You\">(I Know) I'm Losing You</a>\"</td>\n",
       " <td><a href=\"/wiki/Rare_Earth_(band)\" title=\"Rare Earth (band)\">Rare Earth</a>\n",
       " </td></tr>, <tr>\n",
       " <td>56</td>\n",
       " <td>\"<a href=\"/wiki/Easy_Come,_Easy_Go_(Bobby_Sherman_song)\" title=\"Easy Come, Easy Go (Bobby Sherman song)\">Easy Come, Easy Go</a>\"</td>\n",
       " <td><a href=\"/wiki/Bobby_Sherman\" title=\"Bobby Sherman\">Bobby Sherman</a>\n",
       " </td></tr>, <tr>\n",
       " <td>57</td>\n",
       " <td>\"<a href=\"/wiki/Express_Yourself_(Charles_Wright_%26_the_Watts_103rd_Street_Rhythm_Band_song)\" title=\"Express Yourself (Charles Wright &amp; the Watts 103rd Street Rhythm Band song)\">Express Yourself</a>\"</td>\n",
       " <td><a href=\"/wiki/Charles_Wright_%26_the_Watts_103rd_Street_Rhythm_Band\" title=\"Charles Wright &amp; the Watts 103rd Street Rhythm Band\">Charles Wright &amp; the Watts 103rd Street Rhythm Band</a>\n",
       " </td></tr>, <tr>\n",
       " <td>58</td>\n",
       " <td>\"<a href=\"/wiki/Still_Water_(Love)\" title=\"Still Water (Love)\">Still Water (Love)</a>\"</td>\n",
       " <td><a class=\"mw-redirect\" href=\"/wiki/The_Four_Tops\" title=\"The Four Tops\">The Four Tops</a>\n",
       " </td></tr>, <tr>\n",
       " <td>59</td>\n",
       " <td>\"<a href=\"/wiki/Make_Me_Smile\" title=\"Make Me Smile\">Make Me Smile</a>\"</td>\n",
       " <td><a href=\"/wiki/Chicago_(band)\" title=\"Chicago (band)\">Chicago</a>\n",
       " </td></tr>, <tr>\n",
       " <td>60</td>\n",
       " <td>\"<a href=\"/wiki/The_House_of_the_Rising_Sun\" title=\"The House of the Rising Sun\">The House of the Rising Sun</a>\"</td>\n",
       " <td><a href=\"/wiki/Frijid_Pink\" title=\"Frijid Pink\">Frijid Pink</a>\n",
       " </td></tr>, <tr>\n",
       " <td>61</td>\n",
       " <td>\"<a href=\"/wiki/25_or_6_to_4\" title=\"25 or 6 to 4\">25 or 6 to 4</a>\"</td>\n",
       " <td><a href=\"/wiki/Chicago_(band)\" title=\"Chicago (band)\">Chicago</a>\n",
       " </td></tr>, <tr>\n",
       " <td>62</td>\n",
       " <td>\"<a href=\"/wiki/My_Baby_Loves_Lovin%27\" title=\"My Baby Loves Lovin'\">My Baby Loves Lovin'</a>\"</td>\n",
       " <td><a href=\"/wiki/White_Plains_(band)\" title=\"White Plains (band)\">White Plains</a>\n",
       " </td></tr>, <tr>\n",
       " <td>63</td>\n",
       " <td>\"<a href=\"/wiki/Love_or_Let_Me_Be_Lonely\" title=\"Love or Let Me Be Lonely\">Love or Let Me Be Lonely</a>\"</td>\n",
       " <td><a href=\"/wiki/The_Friends_of_Distinction\" title=\"The Friends of Distinction\">The Friends of Distinction</a>\n",
       " </td></tr>, <tr>\n",
       " <td>64</td>\n",
       " <td>\"<a href=\"/wiki/United_We_Stand_(song)\" title=\"United We Stand (song)\">United We Stand</a>\"</td>\n",
       " <td><a class=\"mw-redirect\" href=\"/wiki/The_Brotherhood_of_Man\" title=\"The Brotherhood of Man\">The Brotherhood of Man</a>\n",
       " </td></tr>, <tr>\n",
       " <td>65</td>\n",
       " <td>\"<a href=\"/wiki/We%27ve_Only_Just_Begun\" title=\"We've Only Just Begun\">We've Only Just Begun</a>\"</td>\n",
       " <td><a href=\"/wiki/The_Carpenters\" title=\"The Carpenters\">The Carpenters</a>\n",
       " </td></tr>, <tr>\n",
       " <td>66</td>\n",
       " <td>\"<a href=\"/wiki/Arizona_(song)\" title=\"Arizona (song)\">Arizona</a>\"</td>\n",
       " <td><a href=\"/wiki/Mark_Lindsay\" title=\"Mark Lindsay\">Mark Lindsay</a>\n",
       " </td></tr>, <tr>\n",
       " <td>67</td>\n",
       " <td>\"<a href=\"/wiki/Fire_and_Rain_(song)\" title=\"Fire and Rain (song)\">Fire and Rain</a>\"</td>\n",
       " <td><a href=\"/wiki/James_Taylor\" title=\"James Taylor\">James Taylor</a>\n",
       " </td></tr>, <tr>\n",
       " <td>68</td>\n",
       " <td>\"<a href=\"/wiki/Groovy_Situation\" title=\"Groovy Situation\">Groovy Situation</a>\"</td>\n",
       " <td><a href=\"/wiki/Gene_Chandler\" title=\"Gene Chandler\">Gene Chandler</a>\n",
       " </td></tr>, <tr>\n",
       " <td>69</td>\n",
       " <td>\"<a href=\"/wiki/Evil_Ways\" title=\"Evil Ways\">Evil Ways</a>\"</td>\n",
       " <td><a href=\"/wiki/Santana_(band)\" title=\"Santana (band)\">Santana</a>\n",
       " </td></tr>, <tr>\n",
       " <td>70</td>\n",
       " <td>\"<a href=\"/wiki/No_Time_(The_Guess_Who_song)\" title=\"No Time (The Guess Who song)\">No Time</a>\"</td>\n",
       " <td><a href=\"/wiki/The_Guess_Who\" title=\"The Guess Who\">The Guess Who</a>\n",
       " </td></tr>, <tr>\n",
       " <td>71</td>\n",
       " <td>\"<a href=\"/wiki/Didn%27t_I_(Blow_Your_Mind_This_Time)\" title=\"Didn't I (Blow Your Mind This Time)\">Didn't I (Blow Your Mind This Time)</a>\"</td>\n",
       " <td><a href=\"/wiki/The_Delfonics\" title=\"The Delfonics\">The Delfonics</a>\n",
       " </td></tr>, <tr>\n",
       " <td>72</td>\n",
       " <td>\"<a href=\"/wiki/The_Wonder_of_You\" title=\"The Wonder of You\">The Wonder of You</a>\"</td>\n",
       " <td><a href=\"/wiki/Elvis_Presley\" title=\"Elvis Presley\">Elvis Presley</a>\n",
       " </td></tr>, <tr>\n",
       " <td>73</td>\n",
       " <td>\"<a href=\"/wiki/Up_Around_the_Bend\" title=\"Up Around the Bend\">Up Around the Bend</a>\"</td>\n",
       " <td><a href=\"/wiki/Creedence_Clearwater_Revival\" title=\"Creedence Clearwater Revival\">Creedence Clearwater Revival</a>\n",
       " </td></tr>, <tr>\n",
       " <td>74</td>\n",
       " <td>\"<a class=\"mw-redirect\" href=\"/wiki/(If_You_Let_Me_Make_Love_To_You_Then)_Why_Can%27t_I_Touch_You%3F\" title=\"(If You Let Me Make Love To You Then) Why Can't I Touch You?\">(If You Let Me Make Love To You Then) Why Can't I Touch You?</a>\"</td>\n",
       " <td><a href=\"/wiki/Ronnie_Dyson\" title=\"Ronnie Dyson\">Ronnie Dyson</a>\n",
       " </td></tr>, <tr>\n",
       " <td>75</td>\n",
       " <td>\"<a href=\"/wiki/I_Just_Can%27t_Help_Believing\" title=\"I Just Can't Help Believing\">I Just Can't Help Believing</a>\"</td>\n",
       " <td><a class=\"mw-redirect\" href=\"/wiki/B.J._Thomas\" title=\"B.J. Thomas\">B.J. Thomas</a>\n",
       " </td></tr>, <tr>\n",
       " <td>76</td>\n",
       " <td>\"<a href=\"/wiki/It%27s_a_Shame_(The_Spinners_song)\" title=\"It's a Shame (The Spinners song)\">It's a Shame</a>\"</td>\n",
       " <td><a class=\"mw-redirect\" href=\"/wiki/The_Spinners_(American_band)\" title=\"The Spinners (American band)\">The Spinners</a>\n",
       " </td></tr>, <tr>\n",
       " <td>77</td>\n",
       " <td>\"<a href=\"/wiki/For_the_Love_of_Him\" title=\"For the Love of Him\">For the Love of Him</a>\"</td>\n",
       " <td><a href=\"/wiki/Bobbi_Martin\" title=\"Bobbi Martin\">Bobbi Martin</a>\n",
       " </td></tr>, <tr>\n",
       " <td>78</td>\n",
       " <td>\"<a href=\"/wiki/Mississippi_Queen\" title=\"Mississippi Queen\">Mississippi Queen</a>\"</td>\n",
       " <td><a href=\"/wiki/Mountain_(band)\" title=\"Mountain (band)\">Mountain</a>\n",
       " </td></tr>, <tr>\n",
       " <td>79</td>\n",
       " <td>\"<a href=\"/wiki/I_Want_to_Take_You_Higher\" title=\"I Want to Take You Higher\">I Want to Take You Higher</a>\"</td>\n",
       " <td><a href=\"/wiki/Ike_%26_Tina_Turner\" title=\"Ike &amp; Tina Turner\">Ike &amp; Tina Turner</a>\n",
       " </td></tr>, <tr>\n",
       " <td>80</td>\n",
       " <td>\"<a href=\"/wiki/The_Letter_(The_Box_Tops_song)\" title=\"The Letter (The Box Tops song)\">The Letter</a>\"</td>\n",
       " <td><a href=\"/wiki/Joe_Cocker\" title=\"Joe Cocker\">Joe Cocker</a>\n",
       " </td></tr>, <tr>\n",
       " <td>81</td>\n",
       " <td>\"<a href=\"/wiki/Ma_Belle_Amie\" title=\"Ma Belle Amie\">Ma Belle Amie</a>\"</td>\n",
       " <td><a href=\"/wiki/Tee_Set\" title=\"Tee Set\">Tee Set</a>\n",
       " </td></tr>, <tr>\n",
       " <td>82</td>\n",
       " <td>\"<a href=\"/wiki/The_Bells_(The_Originals_song)\" title=\"The Bells (The Originals song)\">The Bells</a>\"</td>\n",
       " <td><a href=\"/wiki/The_Originals_(band)\" title=\"The Originals (band)\">The Originals</a>\n",
       " </td></tr>, <tr>\n",
       " <td>83</td>\n",
       " <td>\"<a href=\"/wiki/Yellow_River_(song)\" title=\"Yellow River (song)\">Yellow River</a>\"</td>\n",
       " <td><a href=\"/wiki/Christie_(band)\" title=\"Christie (band)\">Christie</a>\n",
       " </td></tr>, <tr>\n",
       " <td>84</td>\n",
       " <td>\"<a href=\"/wiki/Somebody%27s_Been_Sleeping\" title=\"Somebody's Been Sleeping\">Somebody's Been Sleeping</a>\"</td>\n",
       " <td><a href=\"/wiki/100_Proof_(Aged_in_Soul)\" title=\"100 Proof (Aged in Soul)\">100 Proof (Aged in Soul)</a>\n",
       " </td></tr>, <tr>\n",
       " <td>85</td>\n",
       " <td>\"<a href=\"/wiki/Vehicle_(song)\" title=\"Vehicle (song)\">Vehicle</a>\"</td>\n",
       " <td><a href=\"/wiki/The_Ides_of_March_(band)\" title=\"The Ides of March (band)\">The Ides of March</a>\n",
       " </td></tr>, <tr>\n",
       " <td>86</td>\n",
       " <td>\"<a class=\"mw-redirect\" href=\"/wiki/Gimme_Dat_Ding_(song)\" title=\"Gimme Dat Ding (song)\">Gimme Dat Ding</a>\"</td>\n",
       " <td><a href=\"/wiki/The_Pipkins\" title=\"The Pipkins\">The Pipkins</a>\n",
       " </td></tr>, <tr>\n",
       " <td>87</td>\n",
       " <td>\"<a href=\"/wiki/Lay_a_Little_Lovin%27_on_Me\" title=\"Lay a Little Lovin' on Me\">Lay a Little Lovin' on Me</a>\"</td>\n",
       " <td><a href=\"/wiki/Robin_McNamara\" title=\"Robin McNamara\">Robin McNamara</a>\n",
       " </td></tr>, <tr>\n",
       " <td>88</td>\n",
       " <td>\"<a href=\"/wiki/Up_the_Ladder_to_the_Roof\" title=\"Up the Ladder to the Roof\">Up the Ladder to the Roof</a>\"</td>\n",
       " <td><a href=\"/wiki/The_Supremes\" title=\"The Supremes\">The Supremes</a>\n",
       " </td></tr>, <tr>\n",
       " <td>89</td>\n",
       " <td>\"<a href=\"/wiki/Travelin%27_Band\" title=\"Travelin' Band\">Travelin' Band</a>\"</td>\n",
       " <td><a href=\"/wiki/Creedence_Clearwater_Revival\" title=\"Creedence Clearwater Revival\">Creedence Clearwater Revival</a>\n",
       " </td></tr>, <tr>\n",
       " <td>90</td>\n",
       " <td>\"<a href=\"/wiki/Come_Saturday_Morning_(song)\" title=\"Come Saturday Morning (song)\">Come Saturday Morning</a>\"</td>\n",
       " <td><a href=\"/wiki/The_Sandpipers\" title=\"The Sandpipers\">The Sandpipers</a>\n",
       " </td></tr>, <tr>\n",
       " <td>91</td>\n",
       " <td>\"<a href=\"/wiki/Psychedelic_Shack_(song)\" title=\"Psychedelic Shack (song)\">Psychedelic Shack</a>\"</td>\n",
       " <td><a href=\"/wiki/The_Temptations\" title=\"The Temptations\">The Temptations</a>\n",
       " </td></tr>, <tr>\n",
       " <td>92</td>\n",
       " <td>\"<a class=\"mw-redirect\" href=\"/wiki/Without_Love_(There_Is_Nothing)\" title=\"Without Love (There Is Nothing)\">Without Love (There Is Nothing)</a>\"</td>\n",
       " <td><a href=\"/wiki/Tom_Jones_(singer)\" title=\"Tom Jones (singer)\">Tom Jones</a>\n",
       " </td></tr>, <tr>\n",
       " <td>93</td>\n",
       " <td>\"<a href=\"/wiki/Are_You_Ready%3F_(Pacific_Gas_%26_Electric_song)\" title=\"Are You Ready? (Pacific Gas &amp; Electric song)\">Are You Ready?</a>\"</td>\n",
       " <td><a href=\"/wiki/Pacific_Gas_%26_Electric_(band)\" title=\"Pacific Gas &amp; Electric (band)\">Pacific Gas &amp; Electric</a>\n",
       " </td></tr>, <tr>\n",
       " <td>94</td>\n",
       " <td>\"<a href=\"/wiki/Woodstock_(song)\" title=\"Woodstock (song)\">Woodstock</a>\"</td>\n",
       " <td><a href=\"/wiki/Crosby,_Stills,_Nash_%26_Young\" title=\"Crosby, Stills, Nash &amp; Young\">Crosby, Stills, Nash &amp; Young</a>\n",
       " </td></tr>, <tr>\n",
       " <td>95</td>\n",
       " <td>\"<a href=\"/wiki/I%27ll_Never_Fall_in_Love_Again\" title=\"I'll Never Fall in Love Again\">I'll Never Fall in Love Again</a>\"</td>\n",
       " <td><a href=\"/wiki/Dionne_Warwick\" title=\"Dionne Warwick\">Dionne Warwick</a>\n",
       " </td></tr>, <tr>\n",
       " <td>96</td>\n",
       " <td>\"<a class=\"mw-redirect\" href=\"/wiki/Look_What_They%27ve_Done_to_My_Song_Ma\" title=\"Look What They've Done to My Song Ma\">Look What They've Done to My Song Ma</a>\"</td>\n",
       " <td><a href=\"/wiki/The_New_Seekers\" title=\"The New Seekers\">The New Seekers</a>\n",
       " </td></tr>, <tr>\n",
       " <td>97</td>\n",
       " <td>\"<a class=\"mw-redirect\" href=\"/wiki/Walk_A_Mile_In_My_Shoes\" title=\"Walk A Mile In My Shoes\">Walk A Mile In My Shoes</a>\"</td>\n",
       " <td><a href=\"/wiki/Joe_South\" title=\"Joe South\">Joe South</a>\n",
       " </td></tr>, <tr>\n",
       " <td>98</td>\n",
       " <td>\"<a class=\"mw-redirect\" href=\"/wiki/The_Thrill_Is_Gone_(1951_song)\" title=\"The Thrill Is Gone (1951 song)\">The Thrill Is Gone</a>\"</td>\n",
       " <td><a href=\"/wiki/B.B._King\" title=\"B.B. King\">B.B. King</a>\n",
       " </td></tr>, <tr>\n",
       " <td>99</td>\n",
       " <td>\"<a href=\"/wiki/It%27s_Only_Make_Believe\" title=\"It's Only Make Believe\">It's Only Make Believe</a>\"</td>\n",
       " <td><a href=\"/wiki/Glen_Campbell\" title=\"Glen Campbell\">Glen Campbell</a>\n",
       " </td></tr>, <tr>\n",
       " <td>100</td>\n",
       " <td>\"<a href=\"/wiki/Call_Me_(Aretha_Franklin_song)\" title=\"Call Me (Aretha Franklin song)\">Call Me</a>\"</td>\n",
       " <td><a href=\"/wiki/Aretha_Franklin\" title=\"Aretha Franklin\">Aretha Franklin</a>\n",
       " </td></tr>]"
      ]
     },
     "execution_count": 16,
     "metadata": {},
     "output_type": "execute_result"
    }
   ],
   "source": [
    "songs = []\n",
    "table_row = table_html.find_all('tr')\n",
    "table_rows = table_row[1:] \n",
    "table_rows"
   ]
  },
  {
   "cell_type": "code",
   "execution_count": 21,
   "metadata": {},
   "outputs": [
    {
     "data": {
      "text/plain": [
       "[{'band_singer': 'Simon & Garfunkel',\n",
       "  'ranking': '1',\n",
       "  'title': '\"Bridge Over Troubled Water\"',\n",
       "  'url': '/wiki/Bridge_Over_Troubled_Water_(song)'},\n",
       " {'band_singer': 'The Carpenters',\n",
       "  'ranking': '2',\n",
       "  'title': '\"(They Long to Be) Close to You\"',\n",
       "  'url': '/wiki/(They_Long_to_Be)_Close_to_You'},\n",
       " {'band_singer': 'The Guess Who',\n",
       "  'ranking': '3',\n",
       "  'title': '\"American Woman\"',\n",
       "  'url': '/wiki/American_Woman'},\n",
       " {'band_singer': 'B.J. Thomas',\n",
       "  'ranking': '4',\n",
       "  'title': '\"Raindrops Keep Fallin\\' on My Head\"',\n",
       "  'url': '/wiki/Raindrops_Keep_Fallin%27_on_My_Head'}]"
      ]
     },
     "execution_count": 21,
     "metadata": {},
     "output_type": "execute_result"
    }
   ],
   "source": [
    "for row in table_rows:\n",
    "    table_rows_values = row.find_all('td')\n",
    "    ranking = table_rows_values[0].get_text()\n",
    "    title =   table_rows_values[1].get_text()\n",
    "    band_singer = table_rows_values[2].get_text().replace(\"\\n\", \"\")\n",
    "    url = table_rows_values[1].a['href']\n",
    "    dictt = {'band_singer': band_singer,\n",
    "           'ranking': ranking,\n",
    "           'title': title,\n",
    "           'url': url}\n",
    "    songs.append(dictt)\n",
    "songs[0:4]"
   ]
  },
  {
   "cell_type": "markdown",
   "metadata": {},
   "source": [
    "In this question you will scrape Wikipedia for the Billboard's top 100 singles."
   ]
  },
  {
   "cell_type": "markdown",
   "metadata": {},
   "source": [
    "### Scraping Wikipedia for Billboard singles"
   ]
  },
  {
   "cell_type": "markdown",
   "metadata": {},
   "source": [
    "We'll be using  [BeautifulSoup](http://www.crummy.com/software/BeautifulSoup/), and suggest that you use Python's built in `requests` library to fetch the web page."
   ]
  },
  {
   "cell_type": "markdown",
   "metadata": {},
   "source": [
    "#### 1.1 Parsing the Billboard Wikipedia page for 1970"
   ]
  },
  {
   "cell_type": "markdown",
   "metadata": {},
   "source": [
    "Obtain the web page at http://en.wikipedia.org/wiki/Billboard_Year-End_Hot_100_singles_of_1970 using a HTTP GET request. From this web page we'll extract the top 100 singles and their rankings. Create a list of dictionaries, 100 of them to be precise, with entries like \n",
    "\n",
    "`{'url': '/wiki/Sugarloaf_(band)', 'ranking': 30, 'band_singer': 'Sugarloaf', 'title': 'Green-Eyed Lady'}`. \n",
    "\n",
    "If you look at that web page, you'll see a link for every song, from which you can get the `url` of the singer or band. We will use these links later to scrape information about the singer or band. From the listing we can also get the band or singer name `band_singer`, and `title` of the song.\n",
    "\n",
    "*HINT: look for a table with class `wikitable`.*"
   ]
  },
  {
   "cell_type": "markdown",
   "metadata": {
    "scrolled": true
   },
   "source": [
    "You should get something similar to this (where songs is the aforementioned list):\n",
    "\n",
    "```\n",
    "songs[2:4]\n",
    "```\n",
    "\n",
    "```\n",
    "[{'band_singer': 'The Guess Who',\n",
    "  'ranking': 3,\n",
    "  'title': '\"American Woman\"',\n",
    "  'url': '/wiki/The_Guess_Who'},\n",
    " {'band_singer': 'B.J. Thomas',\n",
    "  'ranking': 4,\n",
    "  'title': '\"Raindrops Keep Fallin\\' on My Head\"',\n",
    "  'url': '/wiki/B.J._Thomas'}]\n",
    "```"
   ]
  },
  {
   "cell_type": "markdown",
   "metadata": {},
   "source": [
    "#### 1.2 Generalize the previous: scrape Wikipedia from 1992 to 2014"
   ]
  },
  {
   "cell_type": "markdown",
   "metadata": {},
   "source": [
    "By visiting the urls similar to the ones for 1970, we can obtain the billboard top 100 for the years 1992 to 2014. (We choose these later years rather than 1970 as you might find music from this era more interesting.) Download these using Python's `requests` module and store the text from those requests in a dictionary called `yearstext`. This dictionary ought to have as its keys the years (as integers from 1992 to 2014), and as values corresponding to these keys the text of the page being fetched.\n",
    "\n",
    "You ought to sleep a second (look up `time.sleep` in Python) at the very least in-between fetching each web page: you do not want Wikipedia to think you are a marauding bot attempting to mount a denial-of-service attack."
   ]
  },
  {
   "cell_type": "markdown",
   "metadata": {},
   "source": [
    "*HINT: you might find `range` and string-interpolation useful to construct the URLs *.\n"
   ]
  },
  {
   "cell_type": "markdown",
   "metadata": {},
   "source": [
    "#### 1.3 Parse and Clean data "
   ]
  },
  {
   "cell_type": "markdown",
   "metadata": {},
   "source": [
    "Remember the code you wrote to get data from 1970 which produces a list of dictionaries, one corresponding to each single.  Now write a function `parse_year(the_year, yeartext_dict)` which takes the year, prints it out, gets the text for the year from the just created `yearstext` dictionary, and return a list of dictionaries for that year, with one dictionary for each single. Store this list in the variable `yearinfo`.\n",
    "\n",
    "The dictionaries **must** be of this form:\n",
    "\n",
    "```\n",
    "{'band_singer': ['Brandy', 'Monica'],\n",
    "  'ranking': 2,\n",
    "  'song': ['The Boy Is Mine'],\n",
    "  'songurl': ['/wiki/The_Boy_Is_Mine_(song)'],\n",
    "  'titletext': '\" The Boy Is Mine \"',\n",
    "  'url': ['/wiki/Brandy_Norwood', '/wiki/Monica_(entertainer)']}\n",
    "```"
   ]
  },
  {
   "cell_type": "markdown",
   "metadata": {},
   "source": [
    "The spec of this function is provided below:"
   ]
  },
  {
   "cell_type": "code",
   "execution_count": 26,
   "metadata": {},
   "outputs": [],
   "source": [
    "years_text = {}\n",
    "for years in range(1992,2015):\n",
    "    webpage = requests.get(\"http://en.wikipedia.org/wiki/Billboard_Year-End_Hot_100_singles_of_\"+str(years))\n",
    "    years_text[years] = webpage.text\n"
   ]
  },
  {
   "cell_type": "code",
   "execution_count": 27,
   "metadata": {},
   "outputs": [
    {
     "data": {
      "text/plain": [
       "{1992: '<!DOCTYPE html PUBLIC \"-//W3C//DTD HTML 4.01//EN\" \"http://www.w3.org/TR/html4/strict.dtd\">\\n<html><head>\\n<meta http-equiv=\"Content-Type\" content=\"text/html; charset=utf-8\">\\n<title>ERROR: Cache Access Denied</title>\\n<style type=\"text/css\"><!-- \\n /*\\n Stylesheet for Squid Error pages\\n Adapted from design by Free CSS Templates\\n http://www.freecsstemplates.org\\n Released for free under a Creative Commons Attribution 2.5 License\\n*/\\n\\n/* Page basics */\\n* {\\n\\tfont-family: verdana, sans-serif;\\n}\\n\\nhtml body {\\n\\tmargin: 0;\\n\\tpadding: 0;\\n\\tbackground: #efefef;\\n\\tfont-size: 12px;\\n\\tcolor: #1e1e1e;\\n}\\n\\n/* Page displayed title area */\\n#titles {\\n\\tmargin-left: 15px;\\n\\tpadding: 10px;\\n\\tpadding-left: 100px;\\n\\tbackground: url(\\'http://www.squid-cache.org/Artwork/SN.png\\') no-repeat left;\\n}\\n\\n/* initial title */\\n#titles h1 {\\n\\tcolor: #000000;\\n}\\n#titles h2 {\\n\\tcolor: #000000;\\n}\\n\\n/* special event: FTP success page titles */\\n#titles ftpsuccess {\\n\\tbackground-color:#00ff00;\\n\\twidth:100%;\\n}\\n\\n/* Page displayed body content area */\\n#content {\\n\\tpadding: 10px;\\n\\tbackground: #ffffff;\\n}\\n\\n/* General text */\\np {\\n}\\n\\n/* error brief description */\\n#error p {\\n}\\n\\n/* some data which may have caused the problem */\\n#data {\\n}\\n\\n/* the error message received from the system or other software */\\n#sysmsg {\\n}\\n\\npre {\\n    font-family:sans-serif;\\n}\\n\\n/* special event: FTP / Gopher directory listing */\\n#dirmsg {\\n    font-family: courier;\\n    color: black;\\n    font-size: 10pt;\\n}\\n#dirlisting {\\n    margin-left: 2%;\\n    margin-right: 2%;\\n}\\n#dirlisting tr.entry td.icon,td.filename,td.size,td.date {\\n    border-bottom: groove;\\n}\\n#dirlisting td.size {\\n    width: 50px;\\n    text-align: right;\\n    padding-right: 5px;\\n}\\n\\n/* horizontal lines */\\nhr {\\n\\tmargin: 0;\\n}\\n\\n/* page displayed footer area */\\n#footer {\\n\\tfont-size: 9px;\\n\\tpadding-left: 10px;\\n}\\n\\n\\nbody\\n:lang(fa) { direction: rtl; font-size: 100%; font-family: Tahoma, Roya, sans-serif; float: right; }\\n:lang(he) { direction: rtl; }\\n --></style>\\n</head><body id=ERR_CACHE_ACCESS_DENIED>\\n<div id=\"titles\">\\n<h1>ERROR</h1>\\n<h2>Cache Access Denied.</h2>\\n</div>\\n<hr>\\n\\n<div id=\"content\">\\n<p>The following error was encountered while trying to retrieve the URL: <a href=\"http://en.wikipedia.org/wiki/Billboard_Year-End_Hot_100_singles_of_1992\">http://en.wikipedia.org/wiki/Billboard_Year-End_Hot_100_singles_of_1992</a></p>\\n\\n<blockquote id=\"error\">\\n<p><b>Cache Access Denied.</b></p>\\n</blockquote>\\n\\n<p>Sorry, you are not currently allowed to request http://en.wikipedia.org/wiki/Billboard_Year-End_Hot_100_singles_of_1992 from this cache until you have authenticated yourself.</p>\\n\\n<p>Please contact the <a href=\"mailto:root?subject=CacheErrorInfo%20-%20ERR_CACHE_ACCESS_DENIED&amp;body=CacheHost%3A%20proxy.msitprogram.net%0D%0AErrPage%3A%20ERR_CACHE_ACCESS_DENIED%0D%0AErr%3A%20%5Bnone%5D%0D%0ATimeStamp%3A%20Mon,%2005%20Aug%202019%2008%3A52%3A54%20GMT%0D%0A%0D%0AClientIP%3A%2010.10.9.69%0D%0A%0D%0AHTTP%20Request%3A%0D%0AGET%20%2Fwiki%2FBillboard_Year-End_Hot_100_singles_of_1992%20HTTP%2F1.1%0AHost%3A%20en.wikipedia.org%0D%0AUser-Agent%3A%20python-requests%2F2.21.0%0D%0AAccept-Encoding%3A%20gzip,%20deflate%0D%0AAccept%3A%20*%2F*%0D%0AConnection%3A%20keep-alive%0D%0A%0D%0A%0D%0A\">cache administrator</a> if you have difficulties authenticating yourself.</p>\\n\\n<br>\\n</div>\\n\\n<hr> \\n<div id=\"footer\">\\n<p>Generated Mon, 05 Aug 2019 08:52:54 GMT by proxy.msitprogram.net (squid/3.1.23)</p>\\n<!-- ERR_CACHE_ACCESS_DENIED -->\\n</div>\\n</body></html>\\n',\n",
       " 1993: '<!DOCTYPE html PUBLIC \"-//W3C//DTD HTML 4.01//EN\" \"http://www.w3.org/TR/html4/strict.dtd\">\\n<html><head>\\n<meta http-equiv=\"Content-Type\" content=\"text/html; charset=utf-8\">\\n<title>ERROR: Cache Access Denied</title>\\n<style type=\"text/css\"><!-- \\n /*\\n Stylesheet for Squid Error pages\\n Adapted from design by Free CSS Templates\\n http://www.freecsstemplates.org\\n Released for free under a Creative Commons Attribution 2.5 License\\n*/\\n\\n/* Page basics */\\n* {\\n\\tfont-family: verdana, sans-serif;\\n}\\n\\nhtml body {\\n\\tmargin: 0;\\n\\tpadding: 0;\\n\\tbackground: #efefef;\\n\\tfont-size: 12px;\\n\\tcolor: #1e1e1e;\\n}\\n\\n/* Page displayed title area */\\n#titles {\\n\\tmargin-left: 15px;\\n\\tpadding: 10px;\\n\\tpadding-left: 100px;\\n\\tbackground: url(\\'http://www.squid-cache.org/Artwork/SN.png\\') no-repeat left;\\n}\\n\\n/* initial title */\\n#titles h1 {\\n\\tcolor: #000000;\\n}\\n#titles h2 {\\n\\tcolor: #000000;\\n}\\n\\n/* special event: FTP success page titles */\\n#titles ftpsuccess {\\n\\tbackground-color:#00ff00;\\n\\twidth:100%;\\n}\\n\\n/* Page displayed body content area */\\n#content {\\n\\tpadding: 10px;\\n\\tbackground: #ffffff;\\n}\\n\\n/* General text */\\np {\\n}\\n\\n/* error brief description */\\n#error p {\\n}\\n\\n/* some data which may have caused the problem */\\n#data {\\n}\\n\\n/* the error message received from the system or other software */\\n#sysmsg {\\n}\\n\\npre {\\n    font-family:sans-serif;\\n}\\n\\n/* special event: FTP / Gopher directory listing */\\n#dirmsg {\\n    font-family: courier;\\n    color: black;\\n    font-size: 10pt;\\n}\\n#dirlisting {\\n    margin-left: 2%;\\n    margin-right: 2%;\\n}\\n#dirlisting tr.entry td.icon,td.filename,td.size,td.date {\\n    border-bottom: groove;\\n}\\n#dirlisting td.size {\\n    width: 50px;\\n    text-align: right;\\n    padding-right: 5px;\\n}\\n\\n/* horizontal lines */\\nhr {\\n\\tmargin: 0;\\n}\\n\\n/* page displayed footer area */\\n#footer {\\n\\tfont-size: 9px;\\n\\tpadding-left: 10px;\\n}\\n\\n\\nbody\\n:lang(fa) { direction: rtl; font-size: 100%; font-family: Tahoma, Roya, sans-serif; float: right; }\\n:lang(he) { direction: rtl; }\\n --></style>\\n</head><body id=ERR_CACHE_ACCESS_DENIED>\\n<div id=\"titles\">\\n<h1>ERROR</h1>\\n<h2>Cache Access Denied.</h2>\\n</div>\\n<hr>\\n\\n<div id=\"content\">\\n<p>The following error was encountered while trying to retrieve the URL: <a href=\"http://en.wikipedia.org/wiki/Billboard_Year-End_Hot_100_singles_of_1993\">http://en.wikipedia.org/wiki/Billboard_Year-End_Hot_100_singles_of_1993</a></p>\\n\\n<blockquote id=\"error\">\\n<p><b>Cache Access Denied.</b></p>\\n</blockquote>\\n\\n<p>Sorry, you are not currently allowed to request http://en.wikipedia.org/wiki/Billboard_Year-End_Hot_100_singles_of_1993 from this cache until you have authenticated yourself.</p>\\n\\n<p>Please contact the <a href=\"mailto:root?subject=CacheErrorInfo%20-%20ERR_CACHE_ACCESS_DENIED&amp;body=CacheHost%3A%20proxy.msitprogram.net%0D%0AErrPage%3A%20ERR_CACHE_ACCESS_DENIED%0D%0AErr%3A%20%5Bnone%5D%0D%0ATimeStamp%3A%20Mon,%2005%20Aug%202019%2008%3A52%3A54%20GMT%0D%0A%0D%0AClientIP%3A%2010.10.9.69%0D%0A%0D%0AHTTP%20Request%3A%0D%0AGET%20%2Fwiki%2FBillboard_Year-End_Hot_100_singles_of_1993%20HTTP%2F1.1%0AHost%3A%20en.wikipedia.org%0D%0AUser-Agent%3A%20python-requests%2F2.21.0%0D%0AAccept-Encoding%3A%20gzip,%20deflate%0D%0AAccept%3A%20*%2F*%0D%0AConnection%3A%20keep-alive%0D%0A%0D%0A%0D%0A\">cache administrator</a> if you have difficulties authenticating yourself.</p>\\n\\n<br>\\n</div>\\n\\n<hr> \\n<div id=\"footer\">\\n<p>Generated Mon, 05 Aug 2019 08:52:54 GMT by proxy.msitprogram.net (squid/3.1.23)</p>\\n<!-- ERR_CACHE_ACCESS_DENIED -->\\n</div>\\n</body></html>\\n',\n",
       " 1994: '<!DOCTYPE html PUBLIC \"-//W3C//DTD HTML 4.01//EN\" \"http://www.w3.org/TR/html4/strict.dtd\">\\n<html><head>\\n<meta http-equiv=\"Content-Type\" content=\"text/html; charset=utf-8\">\\n<title>ERROR: Cache Access Denied</title>\\n<style type=\"text/css\"><!-- \\n /*\\n Stylesheet for Squid Error pages\\n Adapted from design by Free CSS Templates\\n http://www.freecsstemplates.org\\n Released for free under a Creative Commons Attribution 2.5 License\\n*/\\n\\n/* Page basics */\\n* {\\n\\tfont-family: verdana, sans-serif;\\n}\\n\\nhtml body {\\n\\tmargin: 0;\\n\\tpadding: 0;\\n\\tbackground: #efefef;\\n\\tfont-size: 12px;\\n\\tcolor: #1e1e1e;\\n}\\n\\n/* Page displayed title area */\\n#titles {\\n\\tmargin-left: 15px;\\n\\tpadding: 10px;\\n\\tpadding-left: 100px;\\n\\tbackground: url(\\'http://www.squid-cache.org/Artwork/SN.png\\') no-repeat left;\\n}\\n\\n/* initial title */\\n#titles h1 {\\n\\tcolor: #000000;\\n}\\n#titles h2 {\\n\\tcolor: #000000;\\n}\\n\\n/* special event: FTP success page titles */\\n#titles ftpsuccess {\\n\\tbackground-color:#00ff00;\\n\\twidth:100%;\\n}\\n\\n/* Page displayed body content area */\\n#content {\\n\\tpadding: 10px;\\n\\tbackground: #ffffff;\\n}\\n\\n/* General text */\\np {\\n}\\n\\n/* error brief description */\\n#error p {\\n}\\n\\n/* some data which may have caused the problem */\\n#data {\\n}\\n\\n/* the error message received from the system or other software */\\n#sysmsg {\\n}\\n\\npre {\\n    font-family:sans-serif;\\n}\\n\\n/* special event: FTP / Gopher directory listing */\\n#dirmsg {\\n    font-family: courier;\\n    color: black;\\n    font-size: 10pt;\\n}\\n#dirlisting {\\n    margin-left: 2%;\\n    margin-right: 2%;\\n}\\n#dirlisting tr.entry td.icon,td.filename,td.size,td.date {\\n    border-bottom: groove;\\n}\\n#dirlisting td.size {\\n    width: 50px;\\n    text-align: right;\\n    padding-right: 5px;\\n}\\n\\n/* horizontal lines */\\nhr {\\n\\tmargin: 0;\\n}\\n\\n/* page displayed footer area */\\n#footer {\\n\\tfont-size: 9px;\\n\\tpadding-left: 10px;\\n}\\n\\n\\nbody\\n:lang(fa) { direction: rtl; font-size: 100%; font-family: Tahoma, Roya, sans-serif; float: right; }\\n:lang(he) { direction: rtl; }\\n --></style>\\n</head><body id=ERR_CACHE_ACCESS_DENIED>\\n<div id=\"titles\">\\n<h1>ERROR</h1>\\n<h2>Cache Access Denied.</h2>\\n</div>\\n<hr>\\n\\n<div id=\"content\">\\n<p>The following error was encountered while trying to retrieve the URL: <a href=\"http://en.wikipedia.org/wiki/Billboard_Year-End_Hot_100_singles_of_1994\">http://en.wikipedia.org/wiki/Billboard_Year-End_Hot_100_singles_of_1994</a></p>\\n\\n<blockquote id=\"error\">\\n<p><b>Cache Access Denied.</b></p>\\n</blockquote>\\n\\n<p>Sorry, you are not currently allowed to request http://en.wikipedia.org/wiki/Billboard_Year-End_Hot_100_singles_of_1994 from this cache until you have authenticated yourself.</p>\\n\\n<p>Please contact the <a href=\"mailto:root?subject=CacheErrorInfo%20-%20ERR_CACHE_ACCESS_DENIED&amp;body=CacheHost%3A%20proxy.msitprogram.net%0D%0AErrPage%3A%20ERR_CACHE_ACCESS_DENIED%0D%0AErr%3A%20%5Bnone%5D%0D%0ATimeStamp%3A%20Mon,%2005%20Aug%202019%2008%3A52%3A54%20GMT%0D%0A%0D%0AClientIP%3A%2010.10.9.69%0D%0A%0D%0AHTTP%20Request%3A%0D%0AGET%20%2Fwiki%2FBillboard_Year-End_Hot_100_singles_of_1994%20HTTP%2F1.1%0AHost%3A%20en.wikipedia.org%0D%0AUser-Agent%3A%20python-requests%2F2.21.0%0D%0AAccept-Encoding%3A%20gzip,%20deflate%0D%0AAccept%3A%20*%2F*%0D%0AConnection%3A%20keep-alive%0D%0A%0D%0A%0D%0A\">cache administrator</a> if you have difficulties authenticating yourself.</p>\\n\\n<br>\\n</div>\\n\\n<hr> \\n<div id=\"footer\">\\n<p>Generated Mon, 05 Aug 2019 08:52:54 GMT by proxy.msitprogram.net (squid/3.1.23)</p>\\n<!-- ERR_CACHE_ACCESS_DENIED -->\\n</div>\\n</body></html>\\n',\n",
       " 1995: '<!DOCTYPE html PUBLIC \"-//W3C//DTD HTML 4.01//EN\" \"http://www.w3.org/TR/html4/strict.dtd\">\\n<html><head>\\n<meta http-equiv=\"Content-Type\" content=\"text/html; charset=utf-8\">\\n<title>ERROR: Cache Access Denied</title>\\n<style type=\"text/css\"><!-- \\n /*\\n Stylesheet for Squid Error pages\\n Adapted from design by Free CSS Templates\\n http://www.freecsstemplates.org\\n Released for free under a Creative Commons Attribution 2.5 License\\n*/\\n\\n/* Page basics */\\n* {\\n\\tfont-family: verdana, sans-serif;\\n}\\n\\nhtml body {\\n\\tmargin: 0;\\n\\tpadding: 0;\\n\\tbackground: #efefef;\\n\\tfont-size: 12px;\\n\\tcolor: #1e1e1e;\\n}\\n\\n/* Page displayed title area */\\n#titles {\\n\\tmargin-left: 15px;\\n\\tpadding: 10px;\\n\\tpadding-left: 100px;\\n\\tbackground: url(\\'http://www.squid-cache.org/Artwork/SN.png\\') no-repeat left;\\n}\\n\\n/* initial title */\\n#titles h1 {\\n\\tcolor: #000000;\\n}\\n#titles h2 {\\n\\tcolor: #000000;\\n}\\n\\n/* special event: FTP success page titles */\\n#titles ftpsuccess {\\n\\tbackground-color:#00ff00;\\n\\twidth:100%;\\n}\\n\\n/* Page displayed body content area */\\n#content {\\n\\tpadding: 10px;\\n\\tbackground: #ffffff;\\n}\\n\\n/* General text */\\np {\\n}\\n\\n/* error brief description */\\n#error p {\\n}\\n\\n/* some data which may have caused the problem */\\n#data {\\n}\\n\\n/* the error message received from the system or other software */\\n#sysmsg {\\n}\\n\\npre {\\n    font-family:sans-serif;\\n}\\n\\n/* special event: FTP / Gopher directory listing */\\n#dirmsg {\\n    font-family: courier;\\n    color: black;\\n    font-size: 10pt;\\n}\\n#dirlisting {\\n    margin-left: 2%;\\n    margin-right: 2%;\\n}\\n#dirlisting tr.entry td.icon,td.filename,td.size,td.date {\\n    border-bottom: groove;\\n}\\n#dirlisting td.size {\\n    width: 50px;\\n    text-align: right;\\n    padding-right: 5px;\\n}\\n\\n/* horizontal lines */\\nhr {\\n\\tmargin: 0;\\n}\\n\\n/* page displayed footer area */\\n#footer {\\n\\tfont-size: 9px;\\n\\tpadding-left: 10px;\\n}\\n\\n\\nbody\\n:lang(fa) { direction: rtl; font-size: 100%; font-family: Tahoma, Roya, sans-serif; float: right; }\\n:lang(he) { direction: rtl; }\\n --></style>\\n</head><body id=ERR_CACHE_ACCESS_DENIED>\\n<div id=\"titles\">\\n<h1>ERROR</h1>\\n<h2>Cache Access Denied.</h2>\\n</div>\\n<hr>\\n\\n<div id=\"content\">\\n<p>The following error was encountered while trying to retrieve the URL: <a href=\"http://en.wikipedia.org/wiki/Billboard_Year-End_Hot_100_singles_of_1995\">http://en.wikipedia.org/wiki/Billboard_Year-End_Hot_100_singles_of_1995</a></p>\\n\\n<blockquote id=\"error\">\\n<p><b>Cache Access Denied.</b></p>\\n</blockquote>\\n\\n<p>Sorry, you are not currently allowed to request http://en.wikipedia.org/wiki/Billboard_Year-End_Hot_100_singles_of_1995 from this cache until you have authenticated yourself.</p>\\n\\n<p>Please contact the <a href=\"mailto:root?subject=CacheErrorInfo%20-%20ERR_CACHE_ACCESS_DENIED&amp;body=CacheHost%3A%20proxy.msitprogram.net%0D%0AErrPage%3A%20ERR_CACHE_ACCESS_DENIED%0D%0AErr%3A%20%5Bnone%5D%0D%0ATimeStamp%3A%20Mon,%2005%20Aug%202019%2008%3A52%3A54%20GMT%0D%0A%0D%0AClientIP%3A%2010.10.9.69%0D%0A%0D%0AHTTP%20Request%3A%0D%0AGET%20%2Fwiki%2FBillboard_Year-End_Hot_100_singles_of_1995%20HTTP%2F1.1%0AHost%3A%20en.wikipedia.org%0D%0AUser-Agent%3A%20python-requests%2F2.21.0%0D%0AAccept-Encoding%3A%20gzip,%20deflate%0D%0AAccept%3A%20*%2F*%0D%0AConnection%3A%20keep-alive%0D%0A%0D%0A%0D%0A\">cache administrator</a> if you have difficulties authenticating yourself.</p>\\n\\n<br>\\n</div>\\n\\n<hr> \\n<div id=\"footer\">\\n<p>Generated Mon, 05 Aug 2019 08:52:54 GMT by proxy.msitprogram.net (squid/3.1.23)</p>\\n<!-- ERR_CACHE_ACCESS_DENIED -->\\n</div>\\n</body></html>\\n',\n",
       " 1996: '<!DOCTYPE html PUBLIC \"-//W3C//DTD HTML 4.01//EN\" \"http://www.w3.org/TR/html4/strict.dtd\">\\n<html><head>\\n<meta http-equiv=\"Content-Type\" content=\"text/html; charset=utf-8\">\\n<title>ERROR: Cache Access Denied</title>\\n<style type=\"text/css\"><!-- \\n /*\\n Stylesheet for Squid Error pages\\n Adapted from design by Free CSS Templates\\n http://www.freecsstemplates.org\\n Released for free under a Creative Commons Attribution 2.5 License\\n*/\\n\\n/* Page basics */\\n* {\\n\\tfont-family: verdana, sans-serif;\\n}\\n\\nhtml body {\\n\\tmargin: 0;\\n\\tpadding: 0;\\n\\tbackground: #efefef;\\n\\tfont-size: 12px;\\n\\tcolor: #1e1e1e;\\n}\\n\\n/* Page displayed title area */\\n#titles {\\n\\tmargin-left: 15px;\\n\\tpadding: 10px;\\n\\tpadding-left: 100px;\\n\\tbackground: url(\\'http://www.squid-cache.org/Artwork/SN.png\\') no-repeat left;\\n}\\n\\n/* initial title */\\n#titles h1 {\\n\\tcolor: #000000;\\n}\\n#titles h2 {\\n\\tcolor: #000000;\\n}\\n\\n/* special event: FTP success page titles */\\n#titles ftpsuccess {\\n\\tbackground-color:#00ff00;\\n\\twidth:100%;\\n}\\n\\n/* Page displayed body content area */\\n#content {\\n\\tpadding: 10px;\\n\\tbackground: #ffffff;\\n}\\n\\n/* General text */\\np {\\n}\\n\\n/* error brief description */\\n#error p {\\n}\\n\\n/* some data which may have caused the problem */\\n#data {\\n}\\n\\n/* the error message received from the system or other software */\\n#sysmsg {\\n}\\n\\npre {\\n    font-family:sans-serif;\\n}\\n\\n/* special event: FTP / Gopher directory listing */\\n#dirmsg {\\n    font-family: courier;\\n    color: black;\\n    font-size: 10pt;\\n}\\n#dirlisting {\\n    margin-left: 2%;\\n    margin-right: 2%;\\n}\\n#dirlisting tr.entry td.icon,td.filename,td.size,td.date {\\n    border-bottom: groove;\\n}\\n#dirlisting td.size {\\n    width: 50px;\\n    text-align: right;\\n    padding-right: 5px;\\n}\\n\\n/* horizontal lines */\\nhr {\\n\\tmargin: 0;\\n}\\n\\n/* page displayed footer area */\\n#footer {\\n\\tfont-size: 9px;\\n\\tpadding-left: 10px;\\n}\\n\\n\\nbody\\n:lang(fa) { direction: rtl; font-size: 100%; font-family: Tahoma, Roya, sans-serif; float: right; }\\n:lang(he) { direction: rtl; }\\n --></style>\\n</head><body id=ERR_CACHE_ACCESS_DENIED>\\n<div id=\"titles\">\\n<h1>ERROR</h1>\\n<h2>Cache Access Denied.</h2>\\n</div>\\n<hr>\\n\\n<div id=\"content\">\\n<p>The following error was encountered while trying to retrieve the URL: <a href=\"http://en.wikipedia.org/wiki/Billboard_Year-End_Hot_100_singles_of_1996\">http://en.wikipedia.org/wiki/Billboard_Year-End_Hot_100_singles_of_1996</a></p>\\n\\n<blockquote id=\"error\">\\n<p><b>Cache Access Denied.</b></p>\\n</blockquote>\\n\\n<p>Sorry, you are not currently allowed to request http://en.wikipedia.org/wiki/Billboard_Year-End_Hot_100_singles_of_1996 from this cache until you have authenticated yourself.</p>\\n\\n<p>Please contact the <a href=\"mailto:root?subject=CacheErrorInfo%20-%20ERR_CACHE_ACCESS_DENIED&amp;body=CacheHost%3A%20proxy.msitprogram.net%0D%0AErrPage%3A%20ERR_CACHE_ACCESS_DENIED%0D%0AErr%3A%20%5Bnone%5D%0D%0ATimeStamp%3A%20Mon,%2005%20Aug%202019%2008%3A52%3A54%20GMT%0D%0A%0D%0AClientIP%3A%2010.10.9.69%0D%0A%0D%0AHTTP%20Request%3A%0D%0AGET%20%2Fwiki%2FBillboard_Year-End_Hot_100_singles_of_1996%20HTTP%2F1.1%0AHost%3A%20en.wikipedia.org%0D%0AUser-Agent%3A%20python-requests%2F2.21.0%0D%0AAccept-Encoding%3A%20gzip,%20deflate%0D%0AAccept%3A%20*%2F*%0D%0AConnection%3A%20keep-alive%0D%0A%0D%0A%0D%0A\">cache administrator</a> if you have difficulties authenticating yourself.</p>\\n\\n<br>\\n</div>\\n\\n<hr> \\n<div id=\"footer\">\\n<p>Generated Mon, 05 Aug 2019 08:52:54 GMT by proxy.msitprogram.net (squid/3.1.23)</p>\\n<!-- ERR_CACHE_ACCESS_DENIED -->\\n</div>\\n</body></html>\\n',\n",
       " 1997: '<!DOCTYPE html PUBLIC \"-//W3C//DTD HTML 4.01//EN\" \"http://www.w3.org/TR/html4/strict.dtd\">\\n<html><head>\\n<meta http-equiv=\"Content-Type\" content=\"text/html; charset=utf-8\">\\n<title>ERROR: Cache Access Denied</title>\\n<style type=\"text/css\"><!-- \\n /*\\n Stylesheet for Squid Error pages\\n Adapted from design by Free CSS Templates\\n http://www.freecsstemplates.org\\n Released for free under a Creative Commons Attribution 2.5 License\\n*/\\n\\n/* Page basics */\\n* {\\n\\tfont-family: verdana, sans-serif;\\n}\\n\\nhtml body {\\n\\tmargin: 0;\\n\\tpadding: 0;\\n\\tbackground: #efefef;\\n\\tfont-size: 12px;\\n\\tcolor: #1e1e1e;\\n}\\n\\n/* Page displayed title area */\\n#titles {\\n\\tmargin-left: 15px;\\n\\tpadding: 10px;\\n\\tpadding-left: 100px;\\n\\tbackground: url(\\'http://www.squid-cache.org/Artwork/SN.png\\') no-repeat left;\\n}\\n\\n/* initial title */\\n#titles h1 {\\n\\tcolor: #000000;\\n}\\n#titles h2 {\\n\\tcolor: #000000;\\n}\\n\\n/* special event: FTP success page titles */\\n#titles ftpsuccess {\\n\\tbackground-color:#00ff00;\\n\\twidth:100%;\\n}\\n\\n/* Page displayed body content area */\\n#content {\\n\\tpadding: 10px;\\n\\tbackground: #ffffff;\\n}\\n\\n/* General text */\\np {\\n}\\n\\n/* error brief description */\\n#error p {\\n}\\n\\n/* some data which may have caused the problem */\\n#data {\\n}\\n\\n/* the error message received from the system or other software */\\n#sysmsg {\\n}\\n\\npre {\\n    font-family:sans-serif;\\n}\\n\\n/* special event: FTP / Gopher directory listing */\\n#dirmsg {\\n    font-family: courier;\\n    color: black;\\n    font-size: 10pt;\\n}\\n#dirlisting {\\n    margin-left: 2%;\\n    margin-right: 2%;\\n}\\n#dirlisting tr.entry td.icon,td.filename,td.size,td.date {\\n    border-bottom: groove;\\n}\\n#dirlisting td.size {\\n    width: 50px;\\n    text-align: right;\\n    padding-right: 5px;\\n}\\n\\n/* horizontal lines */\\nhr {\\n\\tmargin: 0;\\n}\\n\\n/* page displayed footer area */\\n#footer {\\n\\tfont-size: 9px;\\n\\tpadding-left: 10px;\\n}\\n\\n\\nbody\\n:lang(fa) { direction: rtl; font-size: 100%; font-family: Tahoma, Roya, sans-serif; float: right; }\\n:lang(he) { direction: rtl; }\\n --></style>\\n</head><body id=ERR_CACHE_ACCESS_DENIED>\\n<div id=\"titles\">\\n<h1>ERROR</h1>\\n<h2>Cache Access Denied.</h2>\\n</div>\\n<hr>\\n\\n<div id=\"content\">\\n<p>The following error was encountered while trying to retrieve the URL: <a href=\"http://en.wikipedia.org/wiki/Billboard_Year-End_Hot_100_singles_of_1997\">http://en.wikipedia.org/wiki/Billboard_Year-End_Hot_100_singles_of_1997</a></p>\\n\\n<blockquote id=\"error\">\\n<p><b>Cache Access Denied.</b></p>\\n</blockquote>\\n\\n<p>Sorry, you are not currently allowed to request http://en.wikipedia.org/wiki/Billboard_Year-End_Hot_100_singles_of_1997 from this cache until you have authenticated yourself.</p>\\n\\n<p>Please contact the <a href=\"mailto:root?subject=CacheErrorInfo%20-%20ERR_CACHE_ACCESS_DENIED&amp;body=CacheHost%3A%20proxy.msitprogram.net%0D%0AErrPage%3A%20ERR_CACHE_ACCESS_DENIED%0D%0AErr%3A%20%5Bnone%5D%0D%0ATimeStamp%3A%20Mon,%2005%20Aug%202019%2008%3A52%3A54%20GMT%0D%0A%0D%0AClientIP%3A%2010.10.9.69%0D%0A%0D%0AHTTP%20Request%3A%0D%0AGET%20%2Fwiki%2FBillboard_Year-End_Hot_100_singles_of_1997%20HTTP%2F1.1%0AHost%3A%20en.wikipedia.org%0D%0AUser-Agent%3A%20python-requests%2F2.21.0%0D%0AAccept-Encoding%3A%20gzip,%20deflate%0D%0AAccept%3A%20*%2F*%0D%0AConnection%3A%20keep-alive%0D%0A%0D%0A%0D%0A\">cache administrator</a> if you have difficulties authenticating yourself.</p>\\n\\n<br>\\n</div>\\n\\n<hr> \\n<div id=\"footer\">\\n<p>Generated Mon, 05 Aug 2019 08:52:54 GMT by proxy.msitprogram.net (squid/3.1.23)</p>\\n<!-- ERR_CACHE_ACCESS_DENIED -->\\n</div>\\n</body></html>\\n',\n",
       " 1998: '<!DOCTYPE html PUBLIC \"-//W3C//DTD HTML 4.01//EN\" \"http://www.w3.org/TR/html4/strict.dtd\">\\n<html><head>\\n<meta http-equiv=\"Content-Type\" content=\"text/html; charset=utf-8\">\\n<title>ERROR: Cache Access Denied</title>\\n<style type=\"text/css\"><!-- \\n /*\\n Stylesheet for Squid Error pages\\n Adapted from design by Free CSS Templates\\n http://www.freecsstemplates.org\\n Released for free under a Creative Commons Attribution 2.5 License\\n*/\\n\\n/* Page basics */\\n* {\\n\\tfont-family: verdana, sans-serif;\\n}\\n\\nhtml body {\\n\\tmargin: 0;\\n\\tpadding: 0;\\n\\tbackground: #efefef;\\n\\tfont-size: 12px;\\n\\tcolor: #1e1e1e;\\n}\\n\\n/* Page displayed title area */\\n#titles {\\n\\tmargin-left: 15px;\\n\\tpadding: 10px;\\n\\tpadding-left: 100px;\\n\\tbackground: url(\\'http://www.squid-cache.org/Artwork/SN.png\\') no-repeat left;\\n}\\n\\n/* initial title */\\n#titles h1 {\\n\\tcolor: #000000;\\n}\\n#titles h2 {\\n\\tcolor: #000000;\\n}\\n\\n/* special event: FTP success page titles */\\n#titles ftpsuccess {\\n\\tbackground-color:#00ff00;\\n\\twidth:100%;\\n}\\n\\n/* Page displayed body content area */\\n#content {\\n\\tpadding: 10px;\\n\\tbackground: #ffffff;\\n}\\n\\n/* General text */\\np {\\n}\\n\\n/* error brief description */\\n#error p {\\n}\\n\\n/* some data which may have caused the problem */\\n#data {\\n}\\n\\n/* the error message received from the system or other software */\\n#sysmsg {\\n}\\n\\npre {\\n    font-family:sans-serif;\\n}\\n\\n/* special event: FTP / Gopher directory listing */\\n#dirmsg {\\n    font-family: courier;\\n    color: black;\\n    font-size: 10pt;\\n}\\n#dirlisting {\\n    margin-left: 2%;\\n    margin-right: 2%;\\n}\\n#dirlisting tr.entry td.icon,td.filename,td.size,td.date {\\n    border-bottom: groove;\\n}\\n#dirlisting td.size {\\n    width: 50px;\\n    text-align: right;\\n    padding-right: 5px;\\n}\\n\\n/* horizontal lines */\\nhr {\\n\\tmargin: 0;\\n}\\n\\n/* page displayed footer area */\\n#footer {\\n\\tfont-size: 9px;\\n\\tpadding-left: 10px;\\n}\\n\\n\\nbody\\n:lang(fa) { direction: rtl; font-size: 100%; font-family: Tahoma, Roya, sans-serif; float: right; }\\n:lang(he) { direction: rtl; }\\n --></style>\\n</head><body id=ERR_CACHE_ACCESS_DENIED>\\n<div id=\"titles\">\\n<h1>ERROR</h1>\\n<h2>Cache Access Denied.</h2>\\n</div>\\n<hr>\\n\\n<div id=\"content\">\\n<p>The following error was encountered while trying to retrieve the URL: <a href=\"http://en.wikipedia.org/wiki/Billboard_Year-End_Hot_100_singles_of_1998\">http://en.wikipedia.org/wiki/Billboard_Year-End_Hot_100_singles_of_1998</a></p>\\n\\n<blockquote id=\"error\">\\n<p><b>Cache Access Denied.</b></p>\\n</blockquote>\\n\\n<p>Sorry, you are not currently allowed to request http://en.wikipedia.org/wiki/Billboard_Year-End_Hot_100_singles_of_1998 from this cache until you have authenticated yourself.</p>\\n\\n<p>Please contact the <a href=\"mailto:root?subject=CacheErrorInfo%20-%20ERR_CACHE_ACCESS_DENIED&amp;body=CacheHost%3A%20proxy.msitprogram.net%0D%0AErrPage%3A%20ERR_CACHE_ACCESS_DENIED%0D%0AErr%3A%20%5Bnone%5D%0D%0ATimeStamp%3A%20Mon,%2005%20Aug%202019%2008%3A52%3A54%20GMT%0D%0A%0D%0AClientIP%3A%2010.10.9.69%0D%0A%0D%0AHTTP%20Request%3A%0D%0AGET%20%2Fwiki%2FBillboard_Year-End_Hot_100_singles_of_1998%20HTTP%2F1.1%0AHost%3A%20en.wikipedia.org%0D%0AUser-Agent%3A%20python-requests%2F2.21.0%0D%0AAccept-Encoding%3A%20gzip,%20deflate%0D%0AAccept%3A%20*%2F*%0D%0AConnection%3A%20keep-alive%0D%0A%0D%0A%0D%0A\">cache administrator</a> if you have difficulties authenticating yourself.</p>\\n\\n<br>\\n</div>\\n\\n<hr> \\n<div id=\"footer\">\\n<p>Generated Mon, 05 Aug 2019 08:52:54 GMT by proxy.msitprogram.net (squid/3.1.23)</p>\\n<!-- ERR_CACHE_ACCESS_DENIED -->\\n</div>\\n</body></html>\\n',\n",
       " 1999: '<!DOCTYPE html PUBLIC \"-//W3C//DTD HTML 4.01//EN\" \"http://www.w3.org/TR/html4/strict.dtd\">\\n<html><head>\\n<meta http-equiv=\"Content-Type\" content=\"text/html; charset=utf-8\">\\n<title>ERROR: Cache Access Denied</title>\\n<style type=\"text/css\"><!-- \\n /*\\n Stylesheet for Squid Error pages\\n Adapted from design by Free CSS Templates\\n http://www.freecsstemplates.org\\n Released for free under a Creative Commons Attribution 2.5 License\\n*/\\n\\n/* Page basics */\\n* {\\n\\tfont-family: verdana, sans-serif;\\n}\\n\\nhtml body {\\n\\tmargin: 0;\\n\\tpadding: 0;\\n\\tbackground: #efefef;\\n\\tfont-size: 12px;\\n\\tcolor: #1e1e1e;\\n}\\n\\n/* Page displayed title area */\\n#titles {\\n\\tmargin-left: 15px;\\n\\tpadding: 10px;\\n\\tpadding-left: 100px;\\n\\tbackground: url(\\'http://www.squid-cache.org/Artwork/SN.png\\') no-repeat left;\\n}\\n\\n/* initial title */\\n#titles h1 {\\n\\tcolor: #000000;\\n}\\n#titles h2 {\\n\\tcolor: #000000;\\n}\\n\\n/* special event: FTP success page titles */\\n#titles ftpsuccess {\\n\\tbackground-color:#00ff00;\\n\\twidth:100%;\\n}\\n\\n/* Page displayed body content area */\\n#content {\\n\\tpadding: 10px;\\n\\tbackground: #ffffff;\\n}\\n\\n/* General text */\\np {\\n}\\n\\n/* error brief description */\\n#error p {\\n}\\n\\n/* some data which may have caused the problem */\\n#data {\\n}\\n\\n/* the error message received from the system or other software */\\n#sysmsg {\\n}\\n\\npre {\\n    font-family:sans-serif;\\n}\\n\\n/* special event: FTP / Gopher directory listing */\\n#dirmsg {\\n    font-family: courier;\\n    color: black;\\n    font-size: 10pt;\\n}\\n#dirlisting {\\n    margin-left: 2%;\\n    margin-right: 2%;\\n}\\n#dirlisting tr.entry td.icon,td.filename,td.size,td.date {\\n    border-bottom: groove;\\n}\\n#dirlisting td.size {\\n    width: 50px;\\n    text-align: right;\\n    padding-right: 5px;\\n}\\n\\n/* horizontal lines */\\nhr {\\n\\tmargin: 0;\\n}\\n\\n/* page displayed footer area */\\n#footer {\\n\\tfont-size: 9px;\\n\\tpadding-left: 10px;\\n}\\n\\n\\nbody\\n:lang(fa) { direction: rtl; font-size: 100%; font-family: Tahoma, Roya, sans-serif; float: right; }\\n:lang(he) { direction: rtl; }\\n --></style>\\n</head><body id=ERR_CACHE_ACCESS_DENIED>\\n<div id=\"titles\">\\n<h1>ERROR</h1>\\n<h2>Cache Access Denied.</h2>\\n</div>\\n<hr>\\n\\n<div id=\"content\">\\n<p>The following error was encountered while trying to retrieve the URL: <a href=\"http://en.wikipedia.org/wiki/Billboard_Year-End_Hot_100_singles_of_1999\">http://en.wikipedia.org/wiki/Billboard_Year-End_Hot_100_singles_of_1999</a></p>\\n\\n<blockquote id=\"error\">\\n<p><b>Cache Access Denied.</b></p>\\n</blockquote>\\n\\n<p>Sorry, you are not currently allowed to request http://en.wikipedia.org/wiki/Billboard_Year-End_Hot_100_singles_of_1999 from this cache until you have authenticated yourself.</p>\\n\\n<p>Please contact the <a href=\"mailto:root?subject=CacheErrorInfo%20-%20ERR_CACHE_ACCESS_DENIED&amp;body=CacheHost%3A%20proxy.msitprogram.net%0D%0AErrPage%3A%20ERR_CACHE_ACCESS_DENIED%0D%0AErr%3A%20%5Bnone%5D%0D%0ATimeStamp%3A%20Mon,%2005%20Aug%202019%2008%3A52%3A54%20GMT%0D%0A%0D%0AClientIP%3A%2010.10.9.69%0D%0A%0D%0AHTTP%20Request%3A%0D%0AGET%20%2Fwiki%2FBillboard_Year-End_Hot_100_singles_of_1999%20HTTP%2F1.1%0AHost%3A%20en.wikipedia.org%0D%0AUser-Agent%3A%20python-requests%2F2.21.0%0D%0AAccept-Encoding%3A%20gzip,%20deflate%0D%0AAccept%3A%20*%2F*%0D%0AConnection%3A%20keep-alive%0D%0A%0D%0A%0D%0A\">cache administrator</a> if you have difficulties authenticating yourself.</p>\\n\\n<br>\\n</div>\\n\\n<hr> \\n<div id=\"footer\">\\n<p>Generated Mon, 05 Aug 2019 08:52:54 GMT by proxy.msitprogram.net (squid/3.1.23)</p>\\n<!-- ERR_CACHE_ACCESS_DENIED -->\\n</div>\\n</body></html>\\n',\n",
       " 2000: '<!DOCTYPE html PUBLIC \"-//W3C//DTD HTML 4.01//EN\" \"http://www.w3.org/TR/html4/strict.dtd\">\\n<html><head>\\n<meta http-equiv=\"Content-Type\" content=\"text/html; charset=utf-8\">\\n<title>ERROR: Cache Access Denied</title>\\n<style type=\"text/css\"><!-- \\n /*\\n Stylesheet for Squid Error pages\\n Adapted from design by Free CSS Templates\\n http://www.freecsstemplates.org\\n Released for free under a Creative Commons Attribution 2.5 License\\n*/\\n\\n/* Page basics */\\n* {\\n\\tfont-family: verdana, sans-serif;\\n}\\n\\nhtml body {\\n\\tmargin: 0;\\n\\tpadding: 0;\\n\\tbackground: #efefef;\\n\\tfont-size: 12px;\\n\\tcolor: #1e1e1e;\\n}\\n\\n/* Page displayed title area */\\n#titles {\\n\\tmargin-left: 15px;\\n\\tpadding: 10px;\\n\\tpadding-left: 100px;\\n\\tbackground: url(\\'http://www.squid-cache.org/Artwork/SN.png\\') no-repeat left;\\n}\\n\\n/* initial title */\\n#titles h1 {\\n\\tcolor: #000000;\\n}\\n#titles h2 {\\n\\tcolor: #000000;\\n}\\n\\n/* special event: FTP success page titles */\\n#titles ftpsuccess {\\n\\tbackground-color:#00ff00;\\n\\twidth:100%;\\n}\\n\\n/* Page displayed body content area */\\n#content {\\n\\tpadding: 10px;\\n\\tbackground: #ffffff;\\n}\\n\\n/* General text */\\np {\\n}\\n\\n/* error brief description */\\n#error p {\\n}\\n\\n/* some data which may have caused the problem */\\n#data {\\n}\\n\\n/* the error message received from the system or other software */\\n#sysmsg {\\n}\\n\\npre {\\n    font-family:sans-serif;\\n}\\n\\n/* special event: FTP / Gopher directory listing */\\n#dirmsg {\\n    font-family: courier;\\n    color: black;\\n    font-size: 10pt;\\n}\\n#dirlisting {\\n    margin-left: 2%;\\n    margin-right: 2%;\\n}\\n#dirlisting tr.entry td.icon,td.filename,td.size,td.date {\\n    border-bottom: groove;\\n}\\n#dirlisting td.size {\\n    width: 50px;\\n    text-align: right;\\n    padding-right: 5px;\\n}\\n\\n/* horizontal lines */\\nhr {\\n\\tmargin: 0;\\n}\\n\\n/* page displayed footer area */\\n#footer {\\n\\tfont-size: 9px;\\n\\tpadding-left: 10px;\\n}\\n\\n\\nbody\\n:lang(fa) { direction: rtl; font-size: 100%; font-family: Tahoma, Roya, sans-serif; float: right; }\\n:lang(he) { direction: rtl; }\\n --></style>\\n</head><body id=ERR_CACHE_ACCESS_DENIED>\\n<div id=\"titles\">\\n<h1>ERROR</h1>\\n<h2>Cache Access Denied.</h2>\\n</div>\\n<hr>\\n\\n<div id=\"content\">\\n<p>The following error was encountered while trying to retrieve the URL: <a href=\"http://en.wikipedia.org/wiki/Billboard_Year-End_Hot_100_singles_of_2000\">http://en.wikipedia.org/wiki/Billboard_Year-End_Hot_100_singles_of_2000</a></p>\\n\\n<blockquote id=\"error\">\\n<p><b>Cache Access Denied.</b></p>\\n</blockquote>\\n\\n<p>Sorry, you are not currently allowed to request http://en.wikipedia.org/wiki/Billboard_Year-End_Hot_100_singles_of_2000 from this cache until you have authenticated yourself.</p>\\n\\n<p>Please contact the <a href=\"mailto:root?subject=CacheErrorInfo%20-%20ERR_CACHE_ACCESS_DENIED&amp;body=CacheHost%3A%20proxy.msitprogram.net%0D%0AErrPage%3A%20ERR_CACHE_ACCESS_DENIED%0D%0AErr%3A%20%5Bnone%5D%0D%0ATimeStamp%3A%20Mon,%2005%20Aug%202019%2008%3A52%3A54%20GMT%0D%0A%0D%0AClientIP%3A%2010.10.9.69%0D%0A%0D%0AHTTP%20Request%3A%0D%0AGET%20%2Fwiki%2FBillboard_Year-End_Hot_100_singles_of_2000%20HTTP%2F1.1%0AHost%3A%20en.wikipedia.org%0D%0AUser-Agent%3A%20python-requests%2F2.21.0%0D%0AAccept-Encoding%3A%20gzip,%20deflate%0D%0AAccept%3A%20*%2F*%0D%0AConnection%3A%20keep-alive%0D%0A%0D%0A%0D%0A\">cache administrator</a> if you have difficulties authenticating yourself.</p>\\n\\n<br>\\n</div>\\n\\n<hr> \\n<div id=\"footer\">\\n<p>Generated Mon, 05 Aug 2019 08:52:54 GMT by proxy.msitprogram.net (squid/3.1.23)</p>\\n<!-- ERR_CACHE_ACCESS_DENIED -->\\n</div>\\n</body></html>\\n',\n",
       " 2001: '<!DOCTYPE html PUBLIC \"-//W3C//DTD HTML 4.01//EN\" \"http://www.w3.org/TR/html4/strict.dtd\">\\n<html><head>\\n<meta http-equiv=\"Content-Type\" content=\"text/html; charset=utf-8\">\\n<title>ERROR: Cache Access Denied</title>\\n<style type=\"text/css\"><!-- \\n /*\\n Stylesheet for Squid Error pages\\n Adapted from design by Free CSS Templates\\n http://www.freecsstemplates.org\\n Released for free under a Creative Commons Attribution 2.5 License\\n*/\\n\\n/* Page basics */\\n* {\\n\\tfont-family: verdana, sans-serif;\\n}\\n\\nhtml body {\\n\\tmargin: 0;\\n\\tpadding: 0;\\n\\tbackground: #efefef;\\n\\tfont-size: 12px;\\n\\tcolor: #1e1e1e;\\n}\\n\\n/* Page displayed title area */\\n#titles {\\n\\tmargin-left: 15px;\\n\\tpadding: 10px;\\n\\tpadding-left: 100px;\\n\\tbackground: url(\\'http://www.squid-cache.org/Artwork/SN.png\\') no-repeat left;\\n}\\n\\n/* initial title */\\n#titles h1 {\\n\\tcolor: #000000;\\n}\\n#titles h2 {\\n\\tcolor: #000000;\\n}\\n\\n/* special event: FTP success page titles */\\n#titles ftpsuccess {\\n\\tbackground-color:#00ff00;\\n\\twidth:100%;\\n}\\n\\n/* Page displayed body content area */\\n#content {\\n\\tpadding: 10px;\\n\\tbackground: #ffffff;\\n}\\n\\n/* General text */\\np {\\n}\\n\\n/* error brief description */\\n#error p {\\n}\\n\\n/* some data which may have caused the problem */\\n#data {\\n}\\n\\n/* the error message received from the system or other software */\\n#sysmsg {\\n}\\n\\npre {\\n    font-family:sans-serif;\\n}\\n\\n/* special event: FTP / Gopher directory listing */\\n#dirmsg {\\n    font-family: courier;\\n    color: black;\\n    font-size: 10pt;\\n}\\n#dirlisting {\\n    margin-left: 2%;\\n    margin-right: 2%;\\n}\\n#dirlisting tr.entry td.icon,td.filename,td.size,td.date {\\n    border-bottom: groove;\\n}\\n#dirlisting td.size {\\n    width: 50px;\\n    text-align: right;\\n    padding-right: 5px;\\n}\\n\\n/* horizontal lines */\\nhr {\\n\\tmargin: 0;\\n}\\n\\n/* page displayed footer area */\\n#footer {\\n\\tfont-size: 9px;\\n\\tpadding-left: 10px;\\n}\\n\\n\\nbody\\n:lang(fa) { direction: rtl; font-size: 100%; font-family: Tahoma, Roya, sans-serif; float: right; }\\n:lang(he) { direction: rtl; }\\n --></style>\\n</head><body id=ERR_CACHE_ACCESS_DENIED>\\n<div id=\"titles\">\\n<h1>ERROR</h1>\\n<h2>Cache Access Denied.</h2>\\n</div>\\n<hr>\\n\\n<div id=\"content\">\\n<p>The following error was encountered while trying to retrieve the URL: <a href=\"http://en.wikipedia.org/wiki/Billboard_Year-End_Hot_100_singles_of_2001\">http://en.wikipedia.org/wiki/Billboard_Year-End_Hot_100_singles_of_2001</a></p>\\n\\n<blockquote id=\"error\">\\n<p><b>Cache Access Denied.</b></p>\\n</blockquote>\\n\\n<p>Sorry, you are not currently allowed to request http://en.wikipedia.org/wiki/Billboard_Year-End_Hot_100_singles_of_2001 from this cache until you have authenticated yourself.</p>\\n\\n<p>Please contact the <a href=\"mailto:root?subject=CacheErrorInfo%20-%20ERR_CACHE_ACCESS_DENIED&amp;body=CacheHost%3A%20proxy.msitprogram.net%0D%0AErrPage%3A%20ERR_CACHE_ACCESS_DENIED%0D%0AErr%3A%20%5Bnone%5D%0D%0ATimeStamp%3A%20Mon,%2005%20Aug%202019%2008%3A52%3A54%20GMT%0D%0A%0D%0AClientIP%3A%2010.10.9.69%0D%0A%0D%0AHTTP%20Request%3A%0D%0AGET%20%2Fwiki%2FBillboard_Year-End_Hot_100_singles_of_2001%20HTTP%2F1.1%0AHost%3A%20en.wikipedia.org%0D%0AUser-Agent%3A%20python-requests%2F2.21.0%0D%0AAccept-Encoding%3A%20gzip,%20deflate%0D%0AAccept%3A%20*%2F*%0D%0AConnection%3A%20keep-alive%0D%0A%0D%0A%0D%0A\">cache administrator</a> if you have difficulties authenticating yourself.</p>\\n\\n<br>\\n</div>\\n\\n<hr> \\n<div id=\"footer\">\\n<p>Generated Mon, 05 Aug 2019 08:52:54 GMT by proxy.msitprogram.net (squid/3.1.23)</p>\\n<!-- ERR_CACHE_ACCESS_DENIED -->\\n</div>\\n</body></html>\\n',\n",
       " 2002: '<!DOCTYPE html PUBLIC \"-//W3C//DTD HTML 4.01//EN\" \"http://www.w3.org/TR/html4/strict.dtd\">\\n<html><head>\\n<meta http-equiv=\"Content-Type\" content=\"text/html; charset=utf-8\">\\n<title>ERROR: Cache Access Denied</title>\\n<style type=\"text/css\"><!-- \\n /*\\n Stylesheet for Squid Error pages\\n Adapted from design by Free CSS Templates\\n http://www.freecsstemplates.org\\n Released for free under a Creative Commons Attribution 2.5 License\\n*/\\n\\n/* Page basics */\\n* {\\n\\tfont-family: verdana, sans-serif;\\n}\\n\\nhtml body {\\n\\tmargin: 0;\\n\\tpadding: 0;\\n\\tbackground: #efefef;\\n\\tfont-size: 12px;\\n\\tcolor: #1e1e1e;\\n}\\n\\n/* Page displayed title area */\\n#titles {\\n\\tmargin-left: 15px;\\n\\tpadding: 10px;\\n\\tpadding-left: 100px;\\n\\tbackground: url(\\'http://www.squid-cache.org/Artwork/SN.png\\') no-repeat left;\\n}\\n\\n/* initial title */\\n#titles h1 {\\n\\tcolor: #000000;\\n}\\n#titles h2 {\\n\\tcolor: #000000;\\n}\\n\\n/* special event: FTP success page titles */\\n#titles ftpsuccess {\\n\\tbackground-color:#00ff00;\\n\\twidth:100%;\\n}\\n\\n/* Page displayed body content area */\\n#content {\\n\\tpadding: 10px;\\n\\tbackground: #ffffff;\\n}\\n\\n/* General text */\\np {\\n}\\n\\n/* error brief description */\\n#error p {\\n}\\n\\n/* some data which may have caused the problem */\\n#data {\\n}\\n\\n/* the error message received from the system or other software */\\n#sysmsg {\\n}\\n\\npre {\\n    font-family:sans-serif;\\n}\\n\\n/* special event: FTP / Gopher directory listing */\\n#dirmsg {\\n    font-family: courier;\\n    color: black;\\n    font-size: 10pt;\\n}\\n#dirlisting {\\n    margin-left: 2%;\\n    margin-right: 2%;\\n}\\n#dirlisting tr.entry td.icon,td.filename,td.size,td.date {\\n    border-bottom: groove;\\n}\\n#dirlisting td.size {\\n    width: 50px;\\n    text-align: right;\\n    padding-right: 5px;\\n}\\n\\n/* horizontal lines */\\nhr {\\n\\tmargin: 0;\\n}\\n\\n/* page displayed footer area */\\n#footer {\\n\\tfont-size: 9px;\\n\\tpadding-left: 10px;\\n}\\n\\n\\nbody\\n:lang(fa) { direction: rtl; font-size: 100%; font-family: Tahoma, Roya, sans-serif; float: right; }\\n:lang(he) { direction: rtl; }\\n --></style>\\n</head><body id=ERR_CACHE_ACCESS_DENIED>\\n<div id=\"titles\">\\n<h1>ERROR</h1>\\n<h2>Cache Access Denied.</h2>\\n</div>\\n<hr>\\n\\n<div id=\"content\">\\n<p>The following error was encountered while trying to retrieve the URL: <a href=\"http://en.wikipedia.org/wiki/Billboard_Year-End_Hot_100_singles_of_2002\">http://en.wikipedia.org/wiki/Billboard_Year-End_Hot_100_singles_of_2002</a></p>\\n\\n<blockquote id=\"error\">\\n<p><b>Cache Access Denied.</b></p>\\n</blockquote>\\n\\n<p>Sorry, you are not currently allowed to request http://en.wikipedia.org/wiki/Billboard_Year-End_Hot_100_singles_of_2002 from this cache until you have authenticated yourself.</p>\\n\\n<p>Please contact the <a href=\"mailto:root?subject=CacheErrorInfo%20-%20ERR_CACHE_ACCESS_DENIED&amp;body=CacheHost%3A%20proxy.msitprogram.net%0D%0AErrPage%3A%20ERR_CACHE_ACCESS_DENIED%0D%0AErr%3A%20%5Bnone%5D%0D%0ATimeStamp%3A%20Mon,%2005%20Aug%202019%2008%3A52%3A54%20GMT%0D%0A%0D%0AClientIP%3A%2010.10.9.69%0D%0A%0D%0AHTTP%20Request%3A%0D%0AGET%20%2Fwiki%2FBillboard_Year-End_Hot_100_singles_of_2002%20HTTP%2F1.1%0AHost%3A%20en.wikipedia.org%0D%0AUser-Agent%3A%20python-requests%2F2.21.0%0D%0AAccept-Encoding%3A%20gzip,%20deflate%0D%0AAccept%3A%20*%2F*%0D%0AConnection%3A%20keep-alive%0D%0A%0D%0A%0D%0A\">cache administrator</a> if you have difficulties authenticating yourself.</p>\\n\\n<br>\\n</div>\\n\\n<hr> \\n<div id=\"footer\">\\n<p>Generated Mon, 05 Aug 2019 08:52:54 GMT by proxy.msitprogram.net (squid/3.1.23)</p>\\n<!-- ERR_CACHE_ACCESS_DENIED -->\\n</div>\\n</body></html>\\n',\n",
       " 2003: '<!DOCTYPE html PUBLIC \"-//W3C//DTD HTML 4.01//EN\" \"http://www.w3.org/TR/html4/strict.dtd\">\\n<html><head>\\n<meta http-equiv=\"Content-Type\" content=\"text/html; charset=utf-8\">\\n<title>ERROR: Cache Access Denied</title>\\n<style type=\"text/css\"><!-- \\n /*\\n Stylesheet for Squid Error pages\\n Adapted from design by Free CSS Templates\\n http://www.freecsstemplates.org\\n Released for free under a Creative Commons Attribution 2.5 License\\n*/\\n\\n/* Page basics */\\n* {\\n\\tfont-family: verdana, sans-serif;\\n}\\n\\nhtml body {\\n\\tmargin: 0;\\n\\tpadding: 0;\\n\\tbackground: #efefef;\\n\\tfont-size: 12px;\\n\\tcolor: #1e1e1e;\\n}\\n\\n/* Page displayed title area */\\n#titles {\\n\\tmargin-left: 15px;\\n\\tpadding: 10px;\\n\\tpadding-left: 100px;\\n\\tbackground: url(\\'http://www.squid-cache.org/Artwork/SN.png\\') no-repeat left;\\n}\\n\\n/* initial title */\\n#titles h1 {\\n\\tcolor: #000000;\\n}\\n#titles h2 {\\n\\tcolor: #000000;\\n}\\n\\n/* special event: FTP success page titles */\\n#titles ftpsuccess {\\n\\tbackground-color:#00ff00;\\n\\twidth:100%;\\n}\\n\\n/* Page displayed body content area */\\n#content {\\n\\tpadding: 10px;\\n\\tbackground: #ffffff;\\n}\\n\\n/* General text */\\np {\\n}\\n\\n/* error brief description */\\n#error p {\\n}\\n\\n/* some data which may have caused the problem */\\n#data {\\n}\\n\\n/* the error message received from the system or other software */\\n#sysmsg {\\n}\\n\\npre {\\n    font-family:sans-serif;\\n}\\n\\n/* special event: FTP / Gopher directory listing */\\n#dirmsg {\\n    font-family: courier;\\n    color: black;\\n    font-size: 10pt;\\n}\\n#dirlisting {\\n    margin-left: 2%;\\n    margin-right: 2%;\\n}\\n#dirlisting tr.entry td.icon,td.filename,td.size,td.date {\\n    border-bottom: groove;\\n}\\n#dirlisting td.size {\\n    width: 50px;\\n    text-align: right;\\n    padding-right: 5px;\\n}\\n\\n/* horizontal lines */\\nhr {\\n\\tmargin: 0;\\n}\\n\\n/* page displayed footer area */\\n#footer {\\n\\tfont-size: 9px;\\n\\tpadding-left: 10px;\\n}\\n\\n\\nbody\\n:lang(fa) { direction: rtl; font-size: 100%; font-family: Tahoma, Roya, sans-serif; float: right; }\\n:lang(he) { direction: rtl; }\\n --></style>\\n</head><body id=ERR_CACHE_ACCESS_DENIED>\\n<div id=\"titles\">\\n<h1>ERROR</h1>\\n<h2>Cache Access Denied.</h2>\\n</div>\\n<hr>\\n\\n<div id=\"content\">\\n<p>The following error was encountered while trying to retrieve the URL: <a href=\"http://en.wikipedia.org/wiki/Billboard_Year-End_Hot_100_singles_of_2003\">http://en.wikipedia.org/wiki/Billboard_Year-End_Hot_100_singles_of_2003</a></p>\\n\\n<blockquote id=\"error\">\\n<p><b>Cache Access Denied.</b></p>\\n</blockquote>\\n\\n<p>Sorry, you are not currently allowed to request http://en.wikipedia.org/wiki/Billboard_Year-End_Hot_100_singles_of_2003 from this cache until you have authenticated yourself.</p>\\n\\n<p>Please contact the <a href=\"mailto:root?subject=CacheErrorInfo%20-%20ERR_CACHE_ACCESS_DENIED&amp;body=CacheHost%3A%20proxy.msitprogram.net%0D%0AErrPage%3A%20ERR_CACHE_ACCESS_DENIED%0D%0AErr%3A%20%5Bnone%5D%0D%0ATimeStamp%3A%20Mon,%2005%20Aug%202019%2008%3A52%3A54%20GMT%0D%0A%0D%0AClientIP%3A%2010.10.9.69%0D%0A%0D%0AHTTP%20Request%3A%0D%0AGET%20%2Fwiki%2FBillboard_Year-End_Hot_100_singles_of_2003%20HTTP%2F1.1%0AHost%3A%20en.wikipedia.org%0D%0AUser-Agent%3A%20python-requests%2F2.21.0%0D%0AAccept-Encoding%3A%20gzip,%20deflate%0D%0AAccept%3A%20*%2F*%0D%0AConnection%3A%20keep-alive%0D%0A%0D%0A%0D%0A\">cache administrator</a> if you have difficulties authenticating yourself.</p>\\n\\n<br>\\n</div>\\n\\n<hr> \\n<div id=\"footer\">\\n<p>Generated Mon, 05 Aug 2019 08:52:54 GMT by proxy.msitprogram.net (squid/3.1.23)</p>\\n<!-- ERR_CACHE_ACCESS_DENIED -->\\n</div>\\n</body></html>\\n',\n",
       " 2004: '<!DOCTYPE html PUBLIC \"-//W3C//DTD HTML 4.01//EN\" \"http://www.w3.org/TR/html4/strict.dtd\">\\n<html><head>\\n<meta http-equiv=\"Content-Type\" content=\"text/html; charset=utf-8\">\\n<title>ERROR: Cache Access Denied</title>\\n<style type=\"text/css\"><!-- \\n /*\\n Stylesheet for Squid Error pages\\n Adapted from design by Free CSS Templates\\n http://www.freecsstemplates.org\\n Released for free under a Creative Commons Attribution 2.5 License\\n*/\\n\\n/* Page basics */\\n* {\\n\\tfont-family: verdana, sans-serif;\\n}\\n\\nhtml body {\\n\\tmargin: 0;\\n\\tpadding: 0;\\n\\tbackground: #efefef;\\n\\tfont-size: 12px;\\n\\tcolor: #1e1e1e;\\n}\\n\\n/* Page displayed title area */\\n#titles {\\n\\tmargin-left: 15px;\\n\\tpadding: 10px;\\n\\tpadding-left: 100px;\\n\\tbackground: url(\\'http://www.squid-cache.org/Artwork/SN.png\\') no-repeat left;\\n}\\n\\n/* initial title */\\n#titles h1 {\\n\\tcolor: #000000;\\n}\\n#titles h2 {\\n\\tcolor: #000000;\\n}\\n\\n/* special event: FTP success page titles */\\n#titles ftpsuccess {\\n\\tbackground-color:#00ff00;\\n\\twidth:100%;\\n}\\n\\n/* Page displayed body content area */\\n#content {\\n\\tpadding: 10px;\\n\\tbackground: #ffffff;\\n}\\n\\n/* General text */\\np {\\n}\\n\\n/* error brief description */\\n#error p {\\n}\\n\\n/* some data which may have caused the problem */\\n#data {\\n}\\n\\n/* the error message received from the system or other software */\\n#sysmsg {\\n}\\n\\npre {\\n    font-family:sans-serif;\\n}\\n\\n/* special event: FTP / Gopher directory listing */\\n#dirmsg {\\n    font-family: courier;\\n    color: black;\\n    font-size: 10pt;\\n}\\n#dirlisting {\\n    margin-left: 2%;\\n    margin-right: 2%;\\n}\\n#dirlisting tr.entry td.icon,td.filename,td.size,td.date {\\n    border-bottom: groove;\\n}\\n#dirlisting td.size {\\n    width: 50px;\\n    text-align: right;\\n    padding-right: 5px;\\n}\\n\\n/* horizontal lines */\\nhr {\\n\\tmargin: 0;\\n}\\n\\n/* page displayed footer area */\\n#footer {\\n\\tfont-size: 9px;\\n\\tpadding-left: 10px;\\n}\\n\\n\\nbody\\n:lang(fa) { direction: rtl; font-size: 100%; font-family: Tahoma, Roya, sans-serif; float: right; }\\n:lang(he) { direction: rtl; }\\n --></style>\\n</head><body id=ERR_CACHE_ACCESS_DENIED>\\n<div id=\"titles\">\\n<h1>ERROR</h1>\\n<h2>Cache Access Denied.</h2>\\n</div>\\n<hr>\\n\\n<div id=\"content\">\\n<p>The following error was encountered while trying to retrieve the URL: <a href=\"http://en.wikipedia.org/wiki/Billboard_Year-End_Hot_100_singles_of_2004\">http://en.wikipedia.org/wiki/Billboard_Year-End_Hot_100_singles_of_2004</a></p>\\n\\n<blockquote id=\"error\">\\n<p><b>Cache Access Denied.</b></p>\\n</blockquote>\\n\\n<p>Sorry, you are not currently allowed to request http://en.wikipedia.org/wiki/Billboard_Year-End_Hot_100_singles_of_2004 from this cache until you have authenticated yourself.</p>\\n\\n<p>Please contact the <a href=\"mailto:root?subject=CacheErrorInfo%20-%20ERR_CACHE_ACCESS_DENIED&amp;body=CacheHost%3A%20proxy.msitprogram.net%0D%0AErrPage%3A%20ERR_CACHE_ACCESS_DENIED%0D%0AErr%3A%20%5Bnone%5D%0D%0ATimeStamp%3A%20Mon,%2005%20Aug%202019%2008%3A52%3A54%20GMT%0D%0A%0D%0AClientIP%3A%2010.10.9.69%0D%0A%0D%0AHTTP%20Request%3A%0D%0AGET%20%2Fwiki%2FBillboard_Year-End_Hot_100_singles_of_2004%20HTTP%2F1.1%0AHost%3A%20en.wikipedia.org%0D%0AUser-Agent%3A%20python-requests%2F2.21.0%0D%0AAccept-Encoding%3A%20gzip,%20deflate%0D%0AAccept%3A%20*%2F*%0D%0AConnection%3A%20keep-alive%0D%0A%0D%0A%0D%0A\">cache administrator</a> if you have difficulties authenticating yourself.</p>\\n\\n<br>\\n</div>\\n\\n<hr> \\n<div id=\"footer\">\\n<p>Generated Mon, 05 Aug 2019 08:52:54 GMT by proxy.msitprogram.net (squid/3.1.23)</p>\\n<!-- ERR_CACHE_ACCESS_DENIED -->\\n</div>\\n</body></html>\\n',\n",
       " 2005: '<!DOCTYPE html PUBLIC \"-//W3C//DTD HTML 4.01//EN\" \"http://www.w3.org/TR/html4/strict.dtd\">\\n<html><head>\\n<meta http-equiv=\"Content-Type\" content=\"text/html; charset=utf-8\">\\n<title>ERROR: Cache Access Denied</title>\\n<style type=\"text/css\"><!-- \\n /*\\n Stylesheet for Squid Error pages\\n Adapted from design by Free CSS Templates\\n http://www.freecsstemplates.org\\n Released for free under a Creative Commons Attribution 2.5 License\\n*/\\n\\n/* Page basics */\\n* {\\n\\tfont-family: verdana, sans-serif;\\n}\\n\\nhtml body {\\n\\tmargin: 0;\\n\\tpadding: 0;\\n\\tbackground: #efefef;\\n\\tfont-size: 12px;\\n\\tcolor: #1e1e1e;\\n}\\n\\n/* Page displayed title area */\\n#titles {\\n\\tmargin-left: 15px;\\n\\tpadding: 10px;\\n\\tpadding-left: 100px;\\n\\tbackground: url(\\'http://www.squid-cache.org/Artwork/SN.png\\') no-repeat left;\\n}\\n\\n/* initial title */\\n#titles h1 {\\n\\tcolor: #000000;\\n}\\n#titles h2 {\\n\\tcolor: #000000;\\n}\\n\\n/* special event: FTP success page titles */\\n#titles ftpsuccess {\\n\\tbackground-color:#00ff00;\\n\\twidth:100%;\\n}\\n\\n/* Page displayed body content area */\\n#content {\\n\\tpadding: 10px;\\n\\tbackground: #ffffff;\\n}\\n\\n/* General text */\\np {\\n}\\n\\n/* error brief description */\\n#error p {\\n}\\n\\n/* some data which may have caused the problem */\\n#data {\\n}\\n\\n/* the error message received from the system or other software */\\n#sysmsg {\\n}\\n\\npre {\\n    font-family:sans-serif;\\n}\\n\\n/* special event: FTP / Gopher directory listing */\\n#dirmsg {\\n    font-family: courier;\\n    color: black;\\n    font-size: 10pt;\\n}\\n#dirlisting {\\n    margin-left: 2%;\\n    margin-right: 2%;\\n}\\n#dirlisting tr.entry td.icon,td.filename,td.size,td.date {\\n    border-bottom: groove;\\n}\\n#dirlisting td.size {\\n    width: 50px;\\n    text-align: right;\\n    padding-right: 5px;\\n}\\n\\n/* horizontal lines */\\nhr {\\n\\tmargin: 0;\\n}\\n\\n/* page displayed footer area */\\n#footer {\\n\\tfont-size: 9px;\\n\\tpadding-left: 10px;\\n}\\n\\n\\nbody\\n:lang(fa) { direction: rtl; font-size: 100%; font-family: Tahoma, Roya, sans-serif; float: right; }\\n:lang(he) { direction: rtl; }\\n --></style>\\n</head><body id=ERR_CACHE_ACCESS_DENIED>\\n<div id=\"titles\">\\n<h1>ERROR</h1>\\n<h2>Cache Access Denied.</h2>\\n</div>\\n<hr>\\n\\n<div id=\"content\">\\n<p>The following error was encountered while trying to retrieve the URL: <a href=\"http://en.wikipedia.org/wiki/Billboard_Year-End_Hot_100_singles_of_2005\">http://en.wikipedia.org/wiki/Billboard_Year-End_Hot_100_singles_of_2005</a></p>\\n\\n<blockquote id=\"error\">\\n<p><b>Cache Access Denied.</b></p>\\n</blockquote>\\n\\n<p>Sorry, you are not currently allowed to request http://en.wikipedia.org/wiki/Billboard_Year-End_Hot_100_singles_of_2005 from this cache until you have authenticated yourself.</p>\\n\\n<p>Please contact the <a href=\"mailto:root?subject=CacheErrorInfo%20-%20ERR_CACHE_ACCESS_DENIED&amp;body=CacheHost%3A%20proxy.msitprogram.net%0D%0AErrPage%3A%20ERR_CACHE_ACCESS_DENIED%0D%0AErr%3A%20%5Bnone%5D%0D%0ATimeStamp%3A%20Mon,%2005%20Aug%202019%2008%3A52%3A54%20GMT%0D%0A%0D%0AClientIP%3A%2010.10.9.69%0D%0A%0D%0AHTTP%20Request%3A%0D%0AGET%20%2Fwiki%2FBillboard_Year-End_Hot_100_singles_of_2005%20HTTP%2F1.1%0AHost%3A%20en.wikipedia.org%0D%0AUser-Agent%3A%20python-requests%2F2.21.0%0D%0AAccept-Encoding%3A%20gzip,%20deflate%0D%0AAccept%3A%20*%2F*%0D%0AConnection%3A%20keep-alive%0D%0A%0D%0A%0D%0A\">cache administrator</a> if you have difficulties authenticating yourself.</p>\\n\\n<br>\\n</div>\\n\\n<hr> \\n<div id=\"footer\">\\n<p>Generated Mon, 05 Aug 2019 08:52:54 GMT by proxy.msitprogram.net (squid/3.1.23)</p>\\n<!-- ERR_CACHE_ACCESS_DENIED -->\\n</div>\\n</body></html>\\n',\n",
       " 2006: '<!DOCTYPE html PUBLIC \"-//W3C//DTD HTML 4.01//EN\" \"http://www.w3.org/TR/html4/strict.dtd\">\\n<html><head>\\n<meta http-equiv=\"Content-Type\" content=\"text/html; charset=utf-8\">\\n<title>ERROR: Cache Access Denied</title>\\n<style type=\"text/css\"><!-- \\n /*\\n Stylesheet for Squid Error pages\\n Adapted from design by Free CSS Templates\\n http://www.freecsstemplates.org\\n Released for free under a Creative Commons Attribution 2.5 License\\n*/\\n\\n/* Page basics */\\n* {\\n\\tfont-family: verdana, sans-serif;\\n}\\n\\nhtml body {\\n\\tmargin: 0;\\n\\tpadding: 0;\\n\\tbackground: #efefef;\\n\\tfont-size: 12px;\\n\\tcolor: #1e1e1e;\\n}\\n\\n/* Page displayed title area */\\n#titles {\\n\\tmargin-left: 15px;\\n\\tpadding: 10px;\\n\\tpadding-left: 100px;\\n\\tbackground: url(\\'http://www.squid-cache.org/Artwork/SN.png\\') no-repeat left;\\n}\\n\\n/* initial title */\\n#titles h1 {\\n\\tcolor: #000000;\\n}\\n#titles h2 {\\n\\tcolor: #000000;\\n}\\n\\n/* special event: FTP success page titles */\\n#titles ftpsuccess {\\n\\tbackground-color:#00ff00;\\n\\twidth:100%;\\n}\\n\\n/* Page displayed body content area */\\n#content {\\n\\tpadding: 10px;\\n\\tbackground: #ffffff;\\n}\\n\\n/* General text */\\np {\\n}\\n\\n/* error brief description */\\n#error p {\\n}\\n\\n/* some data which may have caused the problem */\\n#data {\\n}\\n\\n/* the error message received from the system or other software */\\n#sysmsg {\\n}\\n\\npre {\\n    font-family:sans-serif;\\n}\\n\\n/* special event: FTP / Gopher directory listing */\\n#dirmsg {\\n    font-family: courier;\\n    color: black;\\n    font-size: 10pt;\\n}\\n#dirlisting {\\n    margin-left: 2%;\\n    margin-right: 2%;\\n}\\n#dirlisting tr.entry td.icon,td.filename,td.size,td.date {\\n    border-bottom: groove;\\n}\\n#dirlisting td.size {\\n    width: 50px;\\n    text-align: right;\\n    padding-right: 5px;\\n}\\n\\n/* horizontal lines */\\nhr {\\n\\tmargin: 0;\\n}\\n\\n/* page displayed footer area */\\n#footer {\\n\\tfont-size: 9px;\\n\\tpadding-left: 10px;\\n}\\n\\n\\nbody\\n:lang(fa) { direction: rtl; font-size: 100%; font-family: Tahoma, Roya, sans-serif; float: right; }\\n:lang(he) { direction: rtl; }\\n --></style>\\n</head><body id=ERR_CACHE_ACCESS_DENIED>\\n<div id=\"titles\">\\n<h1>ERROR</h1>\\n<h2>Cache Access Denied.</h2>\\n</div>\\n<hr>\\n\\n<div id=\"content\">\\n<p>The following error was encountered while trying to retrieve the URL: <a href=\"http://en.wikipedia.org/wiki/Billboard_Year-End_Hot_100_singles_of_2006\">http://en.wikipedia.org/wiki/Billboard_Year-End_Hot_100_singles_of_2006</a></p>\\n\\n<blockquote id=\"error\">\\n<p><b>Cache Access Denied.</b></p>\\n</blockquote>\\n\\n<p>Sorry, you are not currently allowed to request http://en.wikipedia.org/wiki/Billboard_Year-End_Hot_100_singles_of_2006 from this cache until you have authenticated yourself.</p>\\n\\n<p>Please contact the <a href=\"mailto:root?subject=CacheErrorInfo%20-%20ERR_CACHE_ACCESS_DENIED&amp;body=CacheHost%3A%20proxy.msitprogram.net%0D%0AErrPage%3A%20ERR_CACHE_ACCESS_DENIED%0D%0AErr%3A%20%5Bnone%5D%0D%0ATimeStamp%3A%20Mon,%2005%20Aug%202019%2008%3A52%3A54%20GMT%0D%0A%0D%0AClientIP%3A%2010.10.9.69%0D%0A%0D%0AHTTP%20Request%3A%0D%0AGET%20%2Fwiki%2FBillboard_Year-End_Hot_100_singles_of_2006%20HTTP%2F1.1%0AHost%3A%20en.wikipedia.org%0D%0AUser-Agent%3A%20python-requests%2F2.21.0%0D%0AAccept-Encoding%3A%20gzip,%20deflate%0D%0AAccept%3A%20*%2F*%0D%0AConnection%3A%20keep-alive%0D%0A%0D%0A%0D%0A\">cache administrator</a> if you have difficulties authenticating yourself.</p>\\n\\n<br>\\n</div>\\n\\n<hr> \\n<div id=\"footer\">\\n<p>Generated Mon, 05 Aug 2019 08:52:54 GMT by proxy.msitprogram.net (squid/3.1.23)</p>\\n<!-- ERR_CACHE_ACCESS_DENIED -->\\n</div>\\n</body></html>\\n',\n",
       " 2007: '<!DOCTYPE html PUBLIC \"-//W3C//DTD HTML 4.01//EN\" \"http://www.w3.org/TR/html4/strict.dtd\">\\n<html><head>\\n<meta http-equiv=\"Content-Type\" content=\"text/html; charset=utf-8\">\\n<title>ERROR: Cache Access Denied</title>\\n<style type=\"text/css\"><!-- \\n /*\\n Stylesheet for Squid Error pages\\n Adapted from design by Free CSS Templates\\n http://www.freecsstemplates.org\\n Released for free under a Creative Commons Attribution 2.5 License\\n*/\\n\\n/* Page basics */\\n* {\\n\\tfont-family: verdana, sans-serif;\\n}\\n\\nhtml body {\\n\\tmargin: 0;\\n\\tpadding: 0;\\n\\tbackground: #efefef;\\n\\tfont-size: 12px;\\n\\tcolor: #1e1e1e;\\n}\\n\\n/* Page displayed title area */\\n#titles {\\n\\tmargin-left: 15px;\\n\\tpadding: 10px;\\n\\tpadding-left: 100px;\\n\\tbackground: url(\\'http://www.squid-cache.org/Artwork/SN.png\\') no-repeat left;\\n}\\n\\n/* initial title */\\n#titles h1 {\\n\\tcolor: #000000;\\n}\\n#titles h2 {\\n\\tcolor: #000000;\\n}\\n\\n/* special event: FTP success page titles */\\n#titles ftpsuccess {\\n\\tbackground-color:#00ff00;\\n\\twidth:100%;\\n}\\n\\n/* Page displayed body content area */\\n#content {\\n\\tpadding: 10px;\\n\\tbackground: #ffffff;\\n}\\n\\n/* General text */\\np {\\n}\\n\\n/* error brief description */\\n#error p {\\n}\\n\\n/* some data which may have caused the problem */\\n#data {\\n}\\n\\n/* the error message received from the system or other software */\\n#sysmsg {\\n}\\n\\npre {\\n    font-family:sans-serif;\\n}\\n\\n/* special event: FTP / Gopher directory listing */\\n#dirmsg {\\n    font-family: courier;\\n    color: black;\\n    font-size: 10pt;\\n}\\n#dirlisting {\\n    margin-left: 2%;\\n    margin-right: 2%;\\n}\\n#dirlisting tr.entry td.icon,td.filename,td.size,td.date {\\n    border-bottom: groove;\\n}\\n#dirlisting td.size {\\n    width: 50px;\\n    text-align: right;\\n    padding-right: 5px;\\n}\\n\\n/* horizontal lines */\\nhr {\\n\\tmargin: 0;\\n}\\n\\n/* page displayed footer area */\\n#footer {\\n\\tfont-size: 9px;\\n\\tpadding-left: 10px;\\n}\\n\\n\\nbody\\n:lang(fa) { direction: rtl; font-size: 100%; font-family: Tahoma, Roya, sans-serif; float: right; }\\n:lang(he) { direction: rtl; }\\n --></style>\\n</head><body id=ERR_CACHE_ACCESS_DENIED>\\n<div id=\"titles\">\\n<h1>ERROR</h1>\\n<h2>Cache Access Denied.</h2>\\n</div>\\n<hr>\\n\\n<div id=\"content\">\\n<p>The following error was encountered while trying to retrieve the URL: <a href=\"http://en.wikipedia.org/wiki/Billboard_Year-End_Hot_100_singles_of_2007\">http://en.wikipedia.org/wiki/Billboard_Year-End_Hot_100_singles_of_2007</a></p>\\n\\n<blockquote id=\"error\">\\n<p><b>Cache Access Denied.</b></p>\\n</blockquote>\\n\\n<p>Sorry, you are not currently allowed to request http://en.wikipedia.org/wiki/Billboard_Year-End_Hot_100_singles_of_2007 from this cache until you have authenticated yourself.</p>\\n\\n<p>Please contact the <a href=\"mailto:root?subject=CacheErrorInfo%20-%20ERR_CACHE_ACCESS_DENIED&amp;body=CacheHost%3A%20proxy.msitprogram.net%0D%0AErrPage%3A%20ERR_CACHE_ACCESS_DENIED%0D%0AErr%3A%20%5Bnone%5D%0D%0ATimeStamp%3A%20Mon,%2005%20Aug%202019%2008%3A52%3A54%20GMT%0D%0A%0D%0AClientIP%3A%2010.10.9.69%0D%0A%0D%0AHTTP%20Request%3A%0D%0AGET%20%2Fwiki%2FBillboard_Year-End_Hot_100_singles_of_2007%20HTTP%2F1.1%0AHost%3A%20en.wikipedia.org%0D%0AUser-Agent%3A%20python-requests%2F2.21.0%0D%0AAccept-Encoding%3A%20gzip,%20deflate%0D%0AAccept%3A%20*%2F*%0D%0AConnection%3A%20keep-alive%0D%0A%0D%0A%0D%0A\">cache administrator</a> if you have difficulties authenticating yourself.</p>\\n\\n<br>\\n</div>\\n\\n<hr> \\n<div id=\"footer\">\\n<p>Generated Mon, 05 Aug 2019 08:52:54 GMT by proxy.msitprogram.net (squid/3.1.23)</p>\\n<!-- ERR_CACHE_ACCESS_DENIED -->\\n</div>\\n</body></html>\\n',\n",
       " 2008: '<!DOCTYPE html PUBLIC \"-//W3C//DTD HTML 4.01//EN\" \"http://www.w3.org/TR/html4/strict.dtd\">\\n<html><head>\\n<meta http-equiv=\"Content-Type\" content=\"text/html; charset=utf-8\">\\n<title>ERROR: Cache Access Denied</title>\\n<style type=\"text/css\"><!-- \\n /*\\n Stylesheet for Squid Error pages\\n Adapted from design by Free CSS Templates\\n http://www.freecsstemplates.org\\n Released for free under a Creative Commons Attribution 2.5 License\\n*/\\n\\n/* Page basics */\\n* {\\n\\tfont-family: verdana, sans-serif;\\n}\\n\\nhtml body {\\n\\tmargin: 0;\\n\\tpadding: 0;\\n\\tbackground: #efefef;\\n\\tfont-size: 12px;\\n\\tcolor: #1e1e1e;\\n}\\n\\n/* Page displayed title area */\\n#titles {\\n\\tmargin-left: 15px;\\n\\tpadding: 10px;\\n\\tpadding-left: 100px;\\n\\tbackground: url(\\'http://www.squid-cache.org/Artwork/SN.png\\') no-repeat left;\\n}\\n\\n/* initial title */\\n#titles h1 {\\n\\tcolor: #000000;\\n}\\n#titles h2 {\\n\\tcolor: #000000;\\n}\\n\\n/* special event: FTP success page titles */\\n#titles ftpsuccess {\\n\\tbackground-color:#00ff00;\\n\\twidth:100%;\\n}\\n\\n/* Page displayed body content area */\\n#content {\\n\\tpadding: 10px;\\n\\tbackground: #ffffff;\\n}\\n\\n/* General text */\\np {\\n}\\n\\n/* error brief description */\\n#error p {\\n}\\n\\n/* some data which may have caused the problem */\\n#data {\\n}\\n\\n/* the error message received from the system or other software */\\n#sysmsg {\\n}\\n\\npre {\\n    font-family:sans-serif;\\n}\\n\\n/* special event: FTP / Gopher directory listing */\\n#dirmsg {\\n    font-family: courier;\\n    color: black;\\n    font-size: 10pt;\\n}\\n#dirlisting {\\n    margin-left: 2%;\\n    margin-right: 2%;\\n}\\n#dirlisting tr.entry td.icon,td.filename,td.size,td.date {\\n    border-bottom: groove;\\n}\\n#dirlisting td.size {\\n    width: 50px;\\n    text-align: right;\\n    padding-right: 5px;\\n}\\n\\n/* horizontal lines */\\nhr {\\n\\tmargin: 0;\\n}\\n\\n/* page displayed footer area */\\n#footer {\\n\\tfont-size: 9px;\\n\\tpadding-left: 10px;\\n}\\n\\n\\nbody\\n:lang(fa) { direction: rtl; font-size: 100%; font-family: Tahoma, Roya, sans-serif; float: right; }\\n:lang(he) { direction: rtl; }\\n --></style>\\n</head><body id=ERR_CACHE_ACCESS_DENIED>\\n<div id=\"titles\">\\n<h1>ERROR</h1>\\n<h2>Cache Access Denied.</h2>\\n</div>\\n<hr>\\n\\n<div id=\"content\">\\n<p>The following error was encountered while trying to retrieve the URL: <a href=\"http://en.wikipedia.org/wiki/Billboard_Year-End_Hot_100_singles_of_2008\">http://en.wikipedia.org/wiki/Billboard_Year-End_Hot_100_singles_of_2008</a></p>\\n\\n<blockquote id=\"error\">\\n<p><b>Cache Access Denied.</b></p>\\n</blockquote>\\n\\n<p>Sorry, you are not currently allowed to request http://en.wikipedia.org/wiki/Billboard_Year-End_Hot_100_singles_of_2008 from this cache until you have authenticated yourself.</p>\\n\\n<p>Please contact the <a href=\"mailto:root?subject=CacheErrorInfo%20-%20ERR_CACHE_ACCESS_DENIED&amp;body=CacheHost%3A%20proxy.msitprogram.net%0D%0AErrPage%3A%20ERR_CACHE_ACCESS_DENIED%0D%0AErr%3A%20%5Bnone%5D%0D%0ATimeStamp%3A%20Mon,%2005%20Aug%202019%2008%3A52%3A54%20GMT%0D%0A%0D%0AClientIP%3A%2010.10.9.69%0D%0A%0D%0AHTTP%20Request%3A%0D%0AGET%20%2Fwiki%2FBillboard_Year-End_Hot_100_singles_of_2008%20HTTP%2F1.1%0AHost%3A%20en.wikipedia.org%0D%0AUser-Agent%3A%20python-requests%2F2.21.0%0D%0AAccept-Encoding%3A%20gzip,%20deflate%0D%0AAccept%3A%20*%2F*%0D%0AConnection%3A%20keep-alive%0D%0A%0D%0A%0D%0A\">cache administrator</a> if you have difficulties authenticating yourself.</p>\\n\\n<br>\\n</div>\\n\\n<hr> \\n<div id=\"footer\">\\n<p>Generated Mon, 05 Aug 2019 08:52:54 GMT by proxy.msitprogram.net (squid/3.1.23)</p>\\n<!-- ERR_CACHE_ACCESS_DENIED -->\\n</div>\\n</body></html>\\n',\n",
       " 2009: '<!DOCTYPE html PUBLIC \"-//W3C//DTD HTML 4.01//EN\" \"http://www.w3.org/TR/html4/strict.dtd\">\\n<html><head>\\n<meta http-equiv=\"Content-Type\" content=\"text/html; charset=utf-8\">\\n<title>ERROR: Cache Access Denied</title>\\n<style type=\"text/css\"><!-- \\n /*\\n Stylesheet for Squid Error pages\\n Adapted from design by Free CSS Templates\\n http://www.freecsstemplates.org\\n Released for free under a Creative Commons Attribution 2.5 License\\n*/\\n\\n/* Page basics */\\n* {\\n\\tfont-family: verdana, sans-serif;\\n}\\n\\nhtml body {\\n\\tmargin: 0;\\n\\tpadding: 0;\\n\\tbackground: #efefef;\\n\\tfont-size: 12px;\\n\\tcolor: #1e1e1e;\\n}\\n\\n/* Page displayed title area */\\n#titles {\\n\\tmargin-left: 15px;\\n\\tpadding: 10px;\\n\\tpadding-left: 100px;\\n\\tbackground: url(\\'http://www.squid-cache.org/Artwork/SN.png\\') no-repeat left;\\n}\\n\\n/* initial title */\\n#titles h1 {\\n\\tcolor: #000000;\\n}\\n#titles h2 {\\n\\tcolor: #000000;\\n}\\n\\n/* special event: FTP success page titles */\\n#titles ftpsuccess {\\n\\tbackground-color:#00ff00;\\n\\twidth:100%;\\n}\\n\\n/* Page displayed body content area */\\n#content {\\n\\tpadding: 10px;\\n\\tbackground: #ffffff;\\n}\\n\\n/* General text */\\np {\\n}\\n\\n/* error brief description */\\n#error p {\\n}\\n\\n/* some data which may have caused the problem */\\n#data {\\n}\\n\\n/* the error message received from the system or other software */\\n#sysmsg {\\n}\\n\\npre {\\n    font-family:sans-serif;\\n}\\n\\n/* special event: FTP / Gopher directory listing */\\n#dirmsg {\\n    font-family: courier;\\n    color: black;\\n    font-size: 10pt;\\n}\\n#dirlisting {\\n    margin-left: 2%;\\n    margin-right: 2%;\\n}\\n#dirlisting tr.entry td.icon,td.filename,td.size,td.date {\\n    border-bottom: groove;\\n}\\n#dirlisting td.size {\\n    width: 50px;\\n    text-align: right;\\n    padding-right: 5px;\\n}\\n\\n/* horizontal lines */\\nhr {\\n\\tmargin: 0;\\n}\\n\\n/* page displayed footer area */\\n#footer {\\n\\tfont-size: 9px;\\n\\tpadding-left: 10px;\\n}\\n\\n\\nbody\\n:lang(fa) { direction: rtl; font-size: 100%; font-family: Tahoma, Roya, sans-serif; float: right; }\\n:lang(he) { direction: rtl; }\\n --></style>\\n</head><body id=ERR_CACHE_ACCESS_DENIED>\\n<div id=\"titles\">\\n<h1>ERROR</h1>\\n<h2>Cache Access Denied.</h2>\\n</div>\\n<hr>\\n\\n<div id=\"content\">\\n<p>The following error was encountered while trying to retrieve the URL: <a href=\"http://en.wikipedia.org/wiki/Billboard_Year-End_Hot_100_singles_of_2009\">http://en.wikipedia.org/wiki/Billboard_Year-End_Hot_100_singles_of_2009</a></p>\\n\\n<blockquote id=\"error\">\\n<p><b>Cache Access Denied.</b></p>\\n</blockquote>\\n\\n<p>Sorry, you are not currently allowed to request http://en.wikipedia.org/wiki/Billboard_Year-End_Hot_100_singles_of_2009 from this cache until you have authenticated yourself.</p>\\n\\n<p>Please contact the <a href=\"mailto:root?subject=CacheErrorInfo%20-%20ERR_CACHE_ACCESS_DENIED&amp;body=CacheHost%3A%20proxy.msitprogram.net%0D%0AErrPage%3A%20ERR_CACHE_ACCESS_DENIED%0D%0AErr%3A%20%5Bnone%5D%0D%0ATimeStamp%3A%20Mon,%2005%20Aug%202019%2008%3A52%3A54%20GMT%0D%0A%0D%0AClientIP%3A%2010.10.9.69%0D%0A%0D%0AHTTP%20Request%3A%0D%0AGET%20%2Fwiki%2FBillboard_Year-End_Hot_100_singles_of_2009%20HTTP%2F1.1%0AHost%3A%20en.wikipedia.org%0D%0AUser-Agent%3A%20python-requests%2F2.21.0%0D%0AAccept-Encoding%3A%20gzip,%20deflate%0D%0AAccept%3A%20*%2F*%0D%0AConnection%3A%20keep-alive%0D%0A%0D%0A%0D%0A\">cache administrator</a> if you have difficulties authenticating yourself.</p>\\n\\n<br>\\n</div>\\n\\n<hr> \\n<div id=\"footer\">\\n<p>Generated Mon, 05 Aug 2019 08:52:54 GMT by proxy.msitprogram.net (squid/3.1.23)</p>\\n<!-- ERR_CACHE_ACCESS_DENIED -->\\n</div>\\n</body></html>\\n',\n",
       " 2010: '<!DOCTYPE html PUBLIC \"-//W3C//DTD HTML 4.01//EN\" \"http://www.w3.org/TR/html4/strict.dtd\">\\n<html><head>\\n<meta http-equiv=\"Content-Type\" content=\"text/html; charset=utf-8\">\\n<title>ERROR: Cache Access Denied</title>\\n<style type=\"text/css\"><!-- \\n /*\\n Stylesheet for Squid Error pages\\n Adapted from design by Free CSS Templates\\n http://www.freecsstemplates.org\\n Released for free under a Creative Commons Attribution 2.5 License\\n*/\\n\\n/* Page basics */\\n* {\\n\\tfont-family: verdana, sans-serif;\\n}\\n\\nhtml body {\\n\\tmargin: 0;\\n\\tpadding: 0;\\n\\tbackground: #efefef;\\n\\tfont-size: 12px;\\n\\tcolor: #1e1e1e;\\n}\\n\\n/* Page displayed title area */\\n#titles {\\n\\tmargin-left: 15px;\\n\\tpadding: 10px;\\n\\tpadding-left: 100px;\\n\\tbackground: url(\\'http://www.squid-cache.org/Artwork/SN.png\\') no-repeat left;\\n}\\n\\n/* initial title */\\n#titles h1 {\\n\\tcolor: #000000;\\n}\\n#titles h2 {\\n\\tcolor: #000000;\\n}\\n\\n/* special event: FTP success page titles */\\n#titles ftpsuccess {\\n\\tbackground-color:#00ff00;\\n\\twidth:100%;\\n}\\n\\n/* Page displayed body content area */\\n#content {\\n\\tpadding: 10px;\\n\\tbackground: #ffffff;\\n}\\n\\n/* General text */\\np {\\n}\\n\\n/* error brief description */\\n#error p {\\n}\\n\\n/* some data which may have caused the problem */\\n#data {\\n}\\n\\n/* the error message received from the system or other software */\\n#sysmsg {\\n}\\n\\npre {\\n    font-family:sans-serif;\\n}\\n\\n/* special event: FTP / Gopher directory listing */\\n#dirmsg {\\n    font-family: courier;\\n    color: black;\\n    font-size: 10pt;\\n}\\n#dirlisting {\\n    margin-left: 2%;\\n    margin-right: 2%;\\n}\\n#dirlisting tr.entry td.icon,td.filename,td.size,td.date {\\n    border-bottom: groove;\\n}\\n#dirlisting td.size {\\n    width: 50px;\\n    text-align: right;\\n    padding-right: 5px;\\n}\\n\\n/* horizontal lines */\\nhr {\\n\\tmargin: 0;\\n}\\n\\n/* page displayed footer area */\\n#footer {\\n\\tfont-size: 9px;\\n\\tpadding-left: 10px;\\n}\\n\\n\\nbody\\n:lang(fa) { direction: rtl; font-size: 100%; font-family: Tahoma, Roya, sans-serif; float: right; }\\n:lang(he) { direction: rtl; }\\n --></style>\\n</head><body id=ERR_CACHE_ACCESS_DENIED>\\n<div id=\"titles\">\\n<h1>ERROR</h1>\\n<h2>Cache Access Denied.</h2>\\n</div>\\n<hr>\\n\\n<div id=\"content\">\\n<p>The following error was encountered while trying to retrieve the URL: <a href=\"http://en.wikipedia.org/wiki/Billboard_Year-End_Hot_100_singles_of_2010\">http://en.wikipedia.org/wiki/Billboard_Year-End_Hot_100_singles_of_2010</a></p>\\n\\n<blockquote id=\"error\">\\n<p><b>Cache Access Denied.</b></p>\\n</blockquote>\\n\\n<p>Sorry, you are not currently allowed to request http://en.wikipedia.org/wiki/Billboard_Year-End_Hot_100_singles_of_2010 from this cache until you have authenticated yourself.</p>\\n\\n<p>Please contact the <a href=\"mailto:root?subject=CacheErrorInfo%20-%20ERR_CACHE_ACCESS_DENIED&amp;body=CacheHost%3A%20proxy.msitprogram.net%0D%0AErrPage%3A%20ERR_CACHE_ACCESS_DENIED%0D%0AErr%3A%20%5Bnone%5D%0D%0ATimeStamp%3A%20Mon,%2005%20Aug%202019%2008%3A52%3A54%20GMT%0D%0A%0D%0AClientIP%3A%2010.10.9.69%0D%0A%0D%0AHTTP%20Request%3A%0D%0AGET%20%2Fwiki%2FBillboard_Year-End_Hot_100_singles_of_2010%20HTTP%2F1.1%0AHost%3A%20en.wikipedia.org%0D%0AUser-Agent%3A%20python-requests%2F2.21.0%0D%0AAccept-Encoding%3A%20gzip,%20deflate%0D%0AAccept%3A%20*%2F*%0D%0AConnection%3A%20keep-alive%0D%0A%0D%0A%0D%0A\">cache administrator</a> if you have difficulties authenticating yourself.</p>\\n\\n<br>\\n</div>\\n\\n<hr> \\n<div id=\"footer\">\\n<p>Generated Mon, 05 Aug 2019 08:52:54 GMT by proxy.msitprogram.net (squid/3.1.23)</p>\\n<!-- ERR_CACHE_ACCESS_DENIED -->\\n</div>\\n</body></html>\\n',\n",
       " 2011: '<!DOCTYPE html PUBLIC \"-//W3C//DTD HTML 4.01//EN\" \"http://www.w3.org/TR/html4/strict.dtd\">\\n<html><head>\\n<meta http-equiv=\"Content-Type\" content=\"text/html; charset=utf-8\">\\n<title>ERROR: Cache Access Denied</title>\\n<style type=\"text/css\"><!-- \\n /*\\n Stylesheet for Squid Error pages\\n Adapted from design by Free CSS Templates\\n http://www.freecsstemplates.org\\n Released for free under a Creative Commons Attribution 2.5 License\\n*/\\n\\n/* Page basics */\\n* {\\n\\tfont-family: verdana, sans-serif;\\n}\\n\\nhtml body {\\n\\tmargin: 0;\\n\\tpadding: 0;\\n\\tbackground: #efefef;\\n\\tfont-size: 12px;\\n\\tcolor: #1e1e1e;\\n}\\n\\n/* Page displayed title area */\\n#titles {\\n\\tmargin-left: 15px;\\n\\tpadding: 10px;\\n\\tpadding-left: 100px;\\n\\tbackground: url(\\'http://www.squid-cache.org/Artwork/SN.png\\') no-repeat left;\\n}\\n\\n/* initial title */\\n#titles h1 {\\n\\tcolor: #000000;\\n}\\n#titles h2 {\\n\\tcolor: #000000;\\n}\\n\\n/* special event: FTP success page titles */\\n#titles ftpsuccess {\\n\\tbackground-color:#00ff00;\\n\\twidth:100%;\\n}\\n\\n/* Page displayed body content area */\\n#content {\\n\\tpadding: 10px;\\n\\tbackground: #ffffff;\\n}\\n\\n/* General text */\\np {\\n}\\n\\n/* error brief description */\\n#error p {\\n}\\n\\n/* some data which may have caused the problem */\\n#data {\\n}\\n\\n/* the error message received from the system or other software */\\n#sysmsg {\\n}\\n\\npre {\\n    font-family:sans-serif;\\n}\\n\\n/* special event: FTP / Gopher directory listing */\\n#dirmsg {\\n    font-family: courier;\\n    color: black;\\n    font-size: 10pt;\\n}\\n#dirlisting {\\n    margin-left: 2%;\\n    margin-right: 2%;\\n}\\n#dirlisting tr.entry td.icon,td.filename,td.size,td.date {\\n    border-bottom: groove;\\n}\\n#dirlisting td.size {\\n    width: 50px;\\n    text-align: right;\\n    padding-right: 5px;\\n}\\n\\n/* horizontal lines */\\nhr {\\n\\tmargin: 0;\\n}\\n\\n/* page displayed footer area */\\n#footer {\\n\\tfont-size: 9px;\\n\\tpadding-left: 10px;\\n}\\n\\n\\nbody\\n:lang(fa) { direction: rtl; font-size: 100%; font-family: Tahoma, Roya, sans-serif; float: right; }\\n:lang(he) { direction: rtl; }\\n --></style>\\n</head><body id=ERR_CACHE_ACCESS_DENIED>\\n<div id=\"titles\">\\n<h1>ERROR</h1>\\n<h2>Cache Access Denied.</h2>\\n</div>\\n<hr>\\n\\n<div id=\"content\">\\n<p>The following error was encountered while trying to retrieve the URL: <a href=\"http://en.wikipedia.org/wiki/Billboard_Year-End_Hot_100_singles_of_2011\">http://en.wikipedia.org/wiki/Billboard_Year-End_Hot_100_singles_of_2011</a></p>\\n\\n<blockquote id=\"error\">\\n<p><b>Cache Access Denied.</b></p>\\n</blockquote>\\n\\n<p>Sorry, you are not currently allowed to request http://en.wikipedia.org/wiki/Billboard_Year-End_Hot_100_singles_of_2011 from this cache until you have authenticated yourself.</p>\\n\\n<p>Please contact the <a href=\"mailto:root?subject=CacheErrorInfo%20-%20ERR_CACHE_ACCESS_DENIED&amp;body=CacheHost%3A%20proxy.msitprogram.net%0D%0AErrPage%3A%20ERR_CACHE_ACCESS_DENIED%0D%0AErr%3A%20%5Bnone%5D%0D%0ATimeStamp%3A%20Mon,%2005%20Aug%202019%2008%3A52%3A54%20GMT%0D%0A%0D%0AClientIP%3A%2010.10.9.69%0D%0A%0D%0AHTTP%20Request%3A%0D%0AGET%20%2Fwiki%2FBillboard_Year-End_Hot_100_singles_of_2011%20HTTP%2F1.1%0AHost%3A%20en.wikipedia.org%0D%0AUser-Agent%3A%20python-requests%2F2.21.0%0D%0AAccept-Encoding%3A%20gzip,%20deflate%0D%0AAccept%3A%20*%2F*%0D%0AConnection%3A%20keep-alive%0D%0A%0D%0A%0D%0A\">cache administrator</a> if you have difficulties authenticating yourself.</p>\\n\\n<br>\\n</div>\\n\\n<hr> \\n<div id=\"footer\">\\n<p>Generated Mon, 05 Aug 2019 08:52:54 GMT by proxy.msitprogram.net (squid/3.1.23)</p>\\n<!-- ERR_CACHE_ACCESS_DENIED -->\\n</div>\\n</body></html>\\n',\n",
       " 2012: '<!DOCTYPE html PUBLIC \"-//W3C//DTD HTML 4.01//EN\" \"http://www.w3.org/TR/html4/strict.dtd\">\\n<html><head>\\n<meta http-equiv=\"Content-Type\" content=\"text/html; charset=utf-8\">\\n<title>ERROR: Cache Access Denied</title>\\n<style type=\"text/css\"><!-- \\n /*\\n Stylesheet for Squid Error pages\\n Adapted from design by Free CSS Templates\\n http://www.freecsstemplates.org\\n Released for free under a Creative Commons Attribution 2.5 License\\n*/\\n\\n/* Page basics */\\n* {\\n\\tfont-family: verdana, sans-serif;\\n}\\n\\nhtml body {\\n\\tmargin: 0;\\n\\tpadding: 0;\\n\\tbackground: #efefef;\\n\\tfont-size: 12px;\\n\\tcolor: #1e1e1e;\\n}\\n\\n/* Page displayed title area */\\n#titles {\\n\\tmargin-left: 15px;\\n\\tpadding: 10px;\\n\\tpadding-left: 100px;\\n\\tbackground: url(\\'http://www.squid-cache.org/Artwork/SN.png\\') no-repeat left;\\n}\\n\\n/* initial title */\\n#titles h1 {\\n\\tcolor: #000000;\\n}\\n#titles h2 {\\n\\tcolor: #000000;\\n}\\n\\n/* special event: FTP success page titles */\\n#titles ftpsuccess {\\n\\tbackground-color:#00ff00;\\n\\twidth:100%;\\n}\\n\\n/* Page displayed body content area */\\n#content {\\n\\tpadding: 10px;\\n\\tbackground: #ffffff;\\n}\\n\\n/* General text */\\np {\\n}\\n\\n/* error brief description */\\n#error p {\\n}\\n\\n/* some data which may have caused the problem */\\n#data {\\n}\\n\\n/* the error message received from the system or other software */\\n#sysmsg {\\n}\\n\\npre {\\n    font-family:sans-serif;\\n}\\n\\n/* special event: FTP / Gopher directory listing */\\n#dirmsg {\\n    font-family: courier;\\n    color: black;\\n    font-size: 10pt;\\n}\\n#dirlisting {\\n    margin-left: 2%;\\n    margin-right: 2%;\\n}\\n#dirlisting tr.entry td.icon,td.filename,td.size,td.date {\\n    border-bottom: groove;\\n}\\n#dirlisting td.size {\\n    width: 50px;\\n    text-align: right;\\n    padding-right: 5px;\\n}\\n\\n/* horizontal lines */\\nhr {\\n\\tmargin: 0;\\n}\\n\\n/* page displayed footer area */\\n#footer {\\n\\tfont-size: 9px;\\n\\tpadding-left: 10px;\\n}\\n\\n\\nbody\\n:lang(fa) { direction: rtl; font-size: 100%; font-family: Tahoma, Roya, sans-serif; float: right; }\\n:lang(he) { direction: rtl; }\\n --></style>\\n</head><body id=ERR_CACHE_ACCESS_DENIED>\\n<div id=\"titles\">\\n<h1>ERROR</h1>\\n<h2>Cache Access Denied.</h2>\\n</div>\\n<hr>\\n\\n<div id=\"content\">\\n<p>The following error was encountered while trying to retrieve the URL: <a href=\"http://en.wikipedia.org/wiki/Billboard_Year-End_Hot_100_singles_of_2012\">http://en.wikipedia.org/wiki/Billboard_Year-End_Hot_100_singles_of_2012</a></p>\\n\\n<blockquote id=\"error\">\\n<p><b>Cache Access Denied.</b></p>\\n</blockquote>\\n\\n<p>Sorry, you are not currently allowed to request http://en.wikipedia.org/wiki/Billboard_Year-End_Hot_100_singles_of_2012 from this cache until you have authenticated yourself.</p>\\n\\n<p>Please contact the <a href=\"mailto:root?subject=CacheErrorInfo%20-%20ERR_CACHE_ACCESS_DENIED&amp;body=CacheHost%3A%20proxy.msitprogram.net%0D%0AErrPage%3A%20ERR_CACHE_ACCESS_DENIED%0D%0AErr%3A%20%5Bnone%5D%0D%0ATimeStamp%3A%20Mon,%2005%20Aug%202019%2008%3A52%3A55%20GMT%0D%0A%0D%0AClientIP%3A%2010.10.9.69%0D%0A%0D%0AHTTP%20Request%3A%0D%0AGET%20%2Fwiki%2FBillboard_Year-End_Hot_100_singles_of_2012%20HTTP%2F1.1%0AHost%3A%20en.wikipedia.org%0D%0AUser-Agent%3A%20python-requests%2F2.21.0%0D%0AAccept-Encoding%3A%20gzip,%20deflate%0D%0AAccept%3A%20*%2F*%0D%0AConnection%3A%20keep-alive%0D%0A%0D%0A%0D%0A\">cache administrator</a> if you have difficulties authenticating yourself.</p>\\n\\n<br>\\n</div>\\n\\n<hr> \\n<div id=\"footer\">\\n<p>Generated Mon, 05 Aug 2019 08:52:55 GMT by proxy.msitprogram.net (squid/3.1.23)</p>\\n<!-- ERR_CACHE_ACCESS_DENIED -->\\n</div>\\n</body></html>\\n',\n",
       " 2013: '<!DOCTYPE html PUBLIC \"-//W3C//DTD HTML 4.01//EN\" \"http://www.w3.org/TR/html4/strict.dtd\">\\n<html><head>\\n<meta http-equiv=\"Content-Type\" content=\"text/html; charset=utf-8\">\\n<title>ERROR: Cache Access Denied</title>\\n<style type=\"text/css\"><!-- \\n /*\\n Stylesheet for Squid Error pages\\n Adapted from design by Free CSS Templates\\n http://www.freecsstemplates.org\\n Released for free under a Creative Commons Attribution 2.5 License\\n*/\\n\\n/* Page basics */\\n* {\\n\\tfont-family: verdana, sans-serif;\\n}\\n\\nhtml body {\\n\\tmargin: 0;\\n\\tpadding: 0;\\n\\tbackground: #efefef;\\n\\tfont-size: 12px;\\n\\tcolor: #1e1e1e;\\n}\\n\\n/* Page displayed title area */\\n#titles {\\n\\tmargin-left: 15px;\\n\\tpadding: 10px;\\n\\tpadding-left: 100px;\\n\\tbackground: url(\\'http://www.squid-cache.org/Artwork/SN.png\\') no-repeat left;\\n}\\n\\n/* initial title */\\n#titles h1 {\\n\\tcolor: #000000;\\n}\\n#titles h2 {\\n\\tcolor: #000000;\\n}\\n\\n/* special event: FTP success page titles */\\n#titles ftpsuccess {\\n\\tbackground-color:#00ff00;\\n\\twidth:100%;\\n}\\n\\n/* Page displayed body content area */\\n#content {\\n\\tpadding: 10px;\\n\\tbackground: #ffffff;\\n}\\n\\n/* General text */\\np {\\n}\\n\\n/* error brief description */\\n#error p {\\n}\\n\\n/* some data which may have caused the problem */\\n#data {\\n}\\n\\n/* the error message received from the system or other software */\\n#sysmsg {\\n}\\n\\npre {\\n    font-family:sans-serif;\\n}\\n\\n/* special event: FTP / Gopher directory listing */\\n#dirmsg {\\n    font-family: courier;\\n    color: black;\\n    font-size: 10pt;\\n}\\n#dirlisting {\\n    margin-left: 2%;\\n    margin-right: 2%;\\n}\\n#dirlisting tr.entry td.icon,td.filename,td.size,td.date {\\n    border-bottom: groove;\\n}\\n#dirlisting td.size {\\n    width: 50px;\\n    text-align: right;\\n    padding-right: 5px;\\n}\\n\\n/* horizontal lines */\\nhr {\\n\\tmargin: 0;\\n}\\n\\n/* page displayed footer area */\\n#footer {\\n\\tfont-size: 9px;\\n\\tpadding-left: 10px;\\n}\\n\\n\\nbody\\n:lang(fa) { direction: rtl; font-size: 100%; font-family: Tahoma, Roya, sans-serif; float: right; }\\n:lang(he) { direction: rtl; }\\n --></style>\\n</head><body id=ERR_CACHE_ACCESS_DENIED>\\n<div id=\"titles\">\\n<h1>ERROR</h1>\\n<h2>Cache Access Denied.</h2>\\n</div>\\n<hr>\\n\\n<div id=\"content\">\\n<p>The following error was encountered while trying to retrieve the URL: <a href=\"http://en.wikipedia.org/wiki/Billboard_Year-End_Hot_100_singles_of_2013\">http://en.wikipedia.org/wiki/Billboard_Year-End_Hot_100_singles_of_2013</a></p>\\n\\n<blockquote id=\"error\">\\n<p><b>Cache Access Denied.</b></p>\\n</blockquote>\\n\\n<p>Sorry, you are not currently allowed to request http://en.wikipedia.org/wiki/Billboard_Year-End_Hot_100_singles_of_2013 from this cache until you have authenticated yourself.</p>\\n\\n<p>Please contact the <a href=\"mailto:root?subject=CacheErrorInfo%20-%20ERR_CACHE_ACCESS_DENIED&amp;body=CacheHost%3A%20proxy.msitprogram.net%0D%0AErrPage%3A%20ERR_CACHE_ACCESS_DENIED%0D%0AErr%3A%20%5Bnone%5D%0D%0ATimeStamp%3A%20Mon,%2005%20Aug%202019%2008%3A52%3A55%20GMT%0D%0A%0D%0AClientIP%3A%2010.10.9.69%0D%0A%0D%0AHTTP%20Request%3A%0D%0AGET%20%2Fwiki%2FBillboard_Year-End_Hot_100_singles_of_2013%20HTTP%2F1.1%0AHost%3A%20en.wikipedia.org%0D%0AUser-Agent%3A%20python-requests%2F2.21.0%0D%0AAccept-Encoding%3A%20gzip,%20deflate%0D%0AAccept%3A%20*%2F*%0D%0AConnection%3A%20keep-alive%0D%0A%0D%0A%0D%0A\">cache administrator</a> if you have difficulties authenticating yourself.</p>\\n\\n<br>\\n</div>\\n\\n<hr> \\n<div id=\"footer\">\\n<p>Generated Mon, 05 Aug 2019 08:52:55 GMT by proxy.msitprogram.net (squid/3.1.23)</p>\\n<!-- ERR_CACHE_ACCESS_DENIED -->\\n</div>\\n</body></html>\\n',\n",
       " 2014: '<!DOCTYPE html PUBLIC \"-//W3C//DTD HTML 4.01//EN\" \"http://www.w3.org/TR/html4/strict.dtd\">\\n<html><head>\\n<meta http-equiv=\"Content-Type\" content=\"text/html; charset=utf-8\">\\n<title>ERROR: Cache Access Denied</title>\\n<style type=\"text/css\"><!-- \\n /*\\n Stylesheet for Squid Error pages\\n Adapted from design by Free CSS Templates\\n http://www.freecsstemplates.org\\n Released for free under a Creative Commons Attribution 2.5 License\\n*/\\n\\n/* Page basics */\\n* {\\n\\tfont-family: verdana, sans-serif;\\n}\\n\\nhtml body {\\n\\tmargin: 0;\\n\\tpadding: 0;\\n\\tbackground: #efefef;\\n\\tfont-size: 12px;\\n\\tcolor: #1e1e1e;\\n}\\n\\n/* Page displayed title area */\\n#titles {\\n\\tmargin-left: 15px;\\n\\tpadding: 10px;\\n\\tpadding-left: 100px;\\n\\tbackground: url(\\'http://www.squid-cache.org/Artwork/SN.png\\') no-repeat left;\\n}\\n\\n/* initial title */\\n#titles h1 {\\n\\tcolor: #000000;\\n}\\n#titles h2 {\\n\\tcolor: #000000;\\n}\\n\\n/* special event: FTP success page titles */\\n#titles ftpsuccess {\\n\\tbackground-color:#00ff00;\\n\\twidth:100%;\\n}\\n\\n/* Page displayed body content area */\\n#content {\\n\\tpadding: 10px;\\n\\tbackground: #ffffff;\\n}\\n\\n/* General text */\\np {\\n}\\n\\n/* error brief description */\\n#error p {\\n}\\n\\n/* some data which may have caused the problem */\\n#data {\\n}\\n\\n/* the error message received from the system or other software */\\n#sysmsg {\\n}\\n\\npre {\\n    font-family:sans-serif;\\n}\\n\\n/* special event: FTP / Gopher directory listing */\\n#dirmsg {\\n    font-family: courier;\\n    color: black;\\n    font-size: 10pt;\\n}\\n#dirlisting {\\n    margin-left: 2%;\\n    margin-right: 2%;\\n}\\n#dirlisting tr.entry td.icon,td.filename,td.size,td.date {\\n    border-bottom: groove;\\n}\\n#dirlisting td.size {\\n    width: 50px;\\n    text-align: right;\\n    padding-right: 5px;\\n}\\n\\n/* horizontal lines */\\nhr {\\n\\tmargin: 0;\\n}\\n\\n/* page displayed footer area */\\n#footer {\\n\\tfont-size: 9px;\\n\\tpadding-left: 10px;\\n}\\n\\n\\nbody\\n:lang(fa) { direction: rtl; font-size: 100%; font-family: Tahoma, Roya, sans-serif; float: right; }\\n:lang(he) { direction: rtl; }\\n --></style>\\n</head><body id=ERR_CACHE_ACCESS_DENIED>\\n<div id=\"titles\">\\n<h1>ERROR</h1>\\n<h2>Cache Access Denied.</h2>\\n</div>\\n<hr>\\n\\n<div id=\"content\">\\n<p>The following error was encountered while trying to retrieve the URL: <a href=\"http://en.wikipedia.org/wiki/Billboard_Year-End_Hot_100_singles_of_2014\">http://en.wikipedia.org/wiki/Billboard_Year-End_Hot_100_singles_of_2014</a></p>\\n\\n<blockquote id=\"error\">\\n<p><b>Cache Access Denied.</b></p>\\n</blockquote>\\n\\n<p>Sorry, you are not currently allowed to request http://en.wikipedia.org/wiki/Billboard_Year-End_Hot_100_singles_of_2014 from this cache until you have authenticated yourself.</p>\\n\\n<p>Please contact the <a href=\"mailto:root?subject=CacheErrorInfo%20-%20ERR_CACHE_ACCESS_DENIED&amp;body=CacheHost%3A%20proxy.msitprogram.net%0D%0AErrPage%3A%20ERR_CACHE_ACCESS_DENIED%0D%0AErr%3A%20%5Bnone%5D%0D%0ATimeStamp%3A%20Mon,%2005%20Aug%202019%2008%3A52%3A55%20GMT%0D%0A%0D%0AClientIP%3A%2010.10.9.69%0D%0A%0D%0AHTTP%20Request%3A%0D%0AGET%20%2Fwiki%2FBillboard_Year-End_Hot_100_singles_of_2014%20HTTP%2F1.1%0AHost%3A%20en.wikipedia.org%0D%0AUser-Agent%3A%20python-requests%2F2.21.0%0D%0AAccept-Encoding%3A%20gzip,%20deflate%0D%0AAccept%3A%20*%2F*%0D%0AConnection%3A%20keep-alive%0D%0A%0D%0A%0D%0A\">cache administrator</a> if you have difficulties authenticating yourself.</p>\\n\\n<br>\\n</div>\\n\\n<hr> \\n<div id=\"footer\">\\n<p>Generated Mon, 05 Aug 2019 08:52:55 GMT by proxy.msitprogram.net (squid/3.1.23)</p>\\n<!-- ERR_CACHE_ACCESS_DENIED -->\\n</div>\\n</body></html>\\n'}"
      ]
     },
     "execution_count": 27,
     "metadata": {},
     "output_type": "execute_result"
    }
   ],
   "source": [
    "years_text"
   ]
  },
  {
   "cell_type": "code",
   "execution_count": null,
   "metadata": {},
   "outputs": [],
   "source": [
    "\"\"\"\n",
    "Function\n",
    "--------\n",
    "parse_year\n",
    "\n",
    "Inputs\n",
    "------\n",
    "the_year: the year you want the singles for\n",
    "yeartext_dict: a dictionary with keys as integer years and values the downloaded web pages \n",
    "    from wikipedia for that year.\n",
    "   \n",
    "Returns\n",
    "-------\n",
    "\n",
    "a list of dictionaries, each of which corresponds to a single and has the\n",
    "following data:\n",
    "\n",
    "Eg:\n",
    "\n",
    "{'band_singer': ['Brandy', 'Monica'],\n",
    "  'ranking': 2,\n",
    "  'song': ['The Boy Is Mine'],\n",
    "  'songurl': ['/wiki/The_Boy_Is_Mine_(song)'],\n",
    "  'titletext': '\" The Boy Is Mine \"',\n",
    "  'url': ['/wiki/Brandy_Norwood', '/wiki/Monica_(entertainer)']}\n",
    "  \n",
    "A dictionary with the following data:\n",
    "    band_singer: a list of bands/singers who made this single\n",
    "    song: a list of the titles of songs on this single\n",
    "    songurl: a list of the same size as song which has urls for the songs on the single \n",
    "        (see point 3 above)\n",
    "    ranking: ranking of the single\n",
    "    titletext: the contents of the table cell\n",
    "    band_singer: a list of bands or singers on this single\n",
    "    url: a list of wikipedia singer/band urls on this single: only put in the part \n",
    "        of the url from /wiki onwards\n",
    "    \n",
    "\n",
    "Notes\n",
    "-----\n",
    "See description and example above.\n",
    "\"\"\"\n",
    "def parse_year(year, years_text):\n",
    "    year = year\n",
    "    yearinfo = []\n",
    "    song = []\n",
    "    songurl = []\n",
    "    band_singer = []\n",
    "    title = []\n",
    "    url = []\n",
    "    title_text = ''\n",
    "    i = 0\n",
    "    title_string = ''\n",
    "    band_singer = ''\n",
    "    soup = BeautifulSoup(years_text[year], \"lxml\")\n",
    "    table = soup.find_all('table', 'class':'{wikitable sortable}')\n",
    "    for r in table.find_all('tr'):\n",
    "        cell_list = r.find_all('td')\n",
    "        if not cell_list:\n",
    "            cell_list = list()\n",
    "        else:\n",
    "            ranking = r.th.string\n",
    "            links = r.td.find_all('a')\n",
    "            nlinks = len(links)"
   ]
  },
  {
   "cell_type": "code",
   "execution_count": null,
   "metadata": {},
   "outputs": [],
   "source": []
  },
  {
   "cell_type": "markdown",
   "metadata": {},
   "source": [
    "#### Helpful notes\n",
    "\n",
    "Notice that some singles might have multiple songs:\n",
    "\n",
    "```\n",
    "{'band_singer': ['Jewel'],\n",
    "  'ranking': 2,\n",
    "  'song': ['Foolish Games', 'You Were Meant for Me'],\n",
    "  'songurl': ['/wiki/Foolish_Games',\n",
    "   '/wiki/You_Were_Meant_for_Me_(Jewel_song)'],\n",
    "  'titletext': '\" Foolish Games \" / \" You Were Meant for Me \"',\n",
    "  'url': ['/wiki/Jewel_(singer)']}\n",
    "```"
   ]
  },
  {
   "cell_type": "markdown",
   "metadata": {},
   "source": [
    "And some singles don't have a song URL:\n",
    "\n",
    "```\n",
    "{'band_singer': [u'Nu Flavor'],\n",
    "  'ranking': 91,\n",
    "  'song': [u'Heaven'],\n",
    "  'songurl': [None],\n",
    "  'titletext': u'\"Heaven\"',\n",
    "  'url': [u'/wiki/Nu_Flavor']}\n",
    "```"
   ]
  },
  {
   "cell_type": "markdown",
   "metadata": {},
   "source": [
    "Thus there are some issues this function must handle:\n",
    "\n",
    "1. There can be more than one  `band_singer` as can be seen above (sometimes with a comma, sometimes with \"featuring\" in between). The best way to parse these is to look for the urls.\n",
    "2. There can be two songs in a single, because of the way the industry works: there are two-sided singles. See https://en.wikipedia.org/wiki/Billboard_Year-End_Hot_100_singles_of_1997 for an example. You can find other examples in 1998 and 1999.\n",
    "3. The `titletext` is the contents of the table cell, and retains the quotes that Wikipedia puts on the single.\n",
    "4. If no song anchor is found (see the 24th song in the above url), assume there is one song in the single, set `songurl` to [`None`] and the song name to the contents of the table cell with the quotes stripped (ie `song` is a one-element list with this the `titletext` stripped of its quotes)."
   ]
  },
  {
   "cell_type": "markdown",
   "metadata": {},
   "source": [
    "As a check, we can do this for 1997. We'll print the first 5 outputs: `parse_year(1997, yearstext)[:5]`"
   ]
  },
  {
   "cell_type": "markdown",
   "metadata": {},
   "source": [
    "This should give the following. Notice that the year 1997 exercises the edge cases we talked about earlier."
   ]
  },
  {
   "cell_type": "markdown",
   "metadata": {},
   "source": [
    "```\n",
    "[{'band_singer': ['Elton John'],\n",
    "  'ranking': 1,\n",
    "  'song': ['Something About the Way You Look Tonight',\n",
    "   'Candle in the Wind 1997'],\n",
    "  'songurl': ['/wiki/Something_About_the_Way_You_Look_Tonight',\n",
    "   '/wiki/Candle_in_the_Wind_1997'],\n",
    "  'titletext': '\" Something About the Way You Look Tonight \" / \" Candle in the Wind 1997 \"',\n",
    "  'url': ['/wiki/Elton_John']},\n",
    " {'band_singer': ['Jewel'],\n",
    "  'ranking': 2,\n",
    "  'song': ['Foolish Games', 'You Were Meant for Me'],\n",
    "  'songurl': ['/wiki/Foolish_Games',\n",
    "   '/wiki/You_Were_Meant_for_Me_(Jewel_song)'],\n",
    "  'titletext': '\" Foolish Games \" / \" You Were Meant for Me \"',\n",
    "  'url': ['/wiki/Jewel_(singer)']},\n",
    " {'band_singer': ['Puff Daddy', 'Faith Evans', '112'],\n",
    "  'ranking': 3,\n",
    "  'song': [\"I'll Be Missing You\"],\n",
    "  'songurl': ['/wiki/I%27ll_Be_Missing_You'],\n",
    "  'titletext': '\" I\\'ll Be Missing You \"',\n",
    "  'url': ['/wiki/Sean_Combs', '/wiki/Faith_Evans', '/wiki/112_(band)']},\n",
    " {'band_singer': ['Toni Braxton'],\n",
    "  'ranking': 4,\n",
    "  'song': ['Un-Break My Heart'],\n",
    "  'songurl': ['/wiki/Un-Break_My_Heart'],\n",
    "  'titletext': '\" Un-Break My Heart \"',\n",
    "  'url': ['/wiki/Toni_Braxton']},\n",
    " {'band_singer': ['Puff Daddy', 'Mase'],\n",
    "  'ranking': 5,\n",
    "  'song': [\"Can't Nobody Hold Me Down\"],\n",
    "  'songurl': ['/wiki/Can%27t_Nobody_Hold_Me_Down'],\n",
    "  'titletext': '\" Can\\'t Nobody Hold Me Down \"',\n",
    "  'url': ['/wiki/Sean_Combs', '/wiki/Mase']}]\n",
    "```"
   ]
  },
  {
   "cell_type": "markdown",
   "metadata": {},
   "source": [
    "#### Save a json file of information from the scraped files"
   ]
  },
  {
   "cell_type": "markdown",
   "metadata": {},
   "source": [
    "We do not want to lose all this work, so let's save the last data structure we created to disk. That way if you need to re-run from here, you don't need to redo all these requests and parsing. \n",
    "\n",
    "DO NOT RERUN THE HTTP REQUESTS TO WIKIPEDIA WHEN SUBMITTING.\n",
    "\n",
    "*We **DO NOT** need to see these JSON files in your submission!*"
   ]
  },
  {
   "cell_type": "code",
   "execution_count": null,
   "metadata": {
    "collapsed": true
   },
   "outputs": [],
   "source": [
    "import json"
   ]
  },
  {
   "cell_type": "code",
   "execution_count": null,
   "metadata": {
    "collapsed": true,
    "scrolled": false
   },
   "outputs": [],
   "source": [
    "# DO NOT RERUN THIS CELL WHEN SUBMITTING\n",
    "fd = open(\"data/yearinfo.json\",\"w\")\n",
    "json.dump(yearinfo, fd)\n",
    "fd.close()\n",
    "del yearinfo"
   ]
  },
  {
   "cell_type": "markdown",
   "metadata": {},
   "source": [
    "Now let's reload our JSON file into the yearinfo variable, just to be sure everything is working."
   ]
  },
  {
   "cell_type": "code",
   "execution_count": null,
   "metadata": {
    "collapsed": true,
    "scrolled": true
   },
   "outputs": [],
   "source": [
    "# RERUN WHEN SUBMITTING\n",
    "# Another way to deal with files. Has the advantage of closing the file for you.\n",
    "with open(\"data/yearinfo.json\", \"r\") as fd:\n",
    "    yearinfo = json.load(fd)"
   ]
  },
  {
   "cell_type": "markdown",
   "metadata": {},
   "source": [
    "#### 1.4 Construct a year-song-singer dataframe from the yearly information"
   ]
  },
  {
   "cell_type": "markdown",
   "metadata": {},
   "source": [
    "Let's construct a dataframe `flatframe` from the `yearinfo`. The frame should be similar to the frame below.  Each row of the frame represents a song, and carries with it the chief properties of year, song, singer, and ranking.\n",
    "\n",
    "![](https://raw.githubusercontent.com/cs109/a-2017/master/hwassets/images/HW1SC1.png)"
   ]
  },
  {
   "cell_type": "markdown",
   "metadata": {},
   "source": [
    "To construct the dataframe, we'll need to iterate over the years and the singles per year. Notice how, above, the dataframe is ordered by ranking and then year. While the exact order is up to you, note that you will have to come up with a scheme to order the information.\n",
    "\n",
    "Check that the dataframe has sensible data types. You will also likely find that the year field has become an \"object\" (Pandas treats strings as generic objects): this is due to the conversion to and back from JSON. Such conversions need special care. Fix any data type issues with `flatframe`. (See Pandas [astype](http://pandas.pydata.org/pandas-docs/stable/generated/pandas.DataFrame.astype.html) function.) \n",
    "We will use this `flatframe` in the next question. \n",
    "\n",
    "(As an aside, we used the name `flatframe` to indicate that this dataframe is flattened from a hierarchical dictionary structure with the keys being the years.)"
   ]
  },
  {
   "cell_type": "markdown",
   "metadata": {},
   "source": [
    "### Who are the highest quality singers?"
   ]
  },
  {
   "cell_type": "markdown",
   "metadata": {},
   "source": [
    "Here we show the highest quality singers and plot them on a bar chart.\n",
    "\n",
    "#### 1.5 Find highest quality singers according to how prolific they are\n",
    "\n",
    "What do we mean by highest quality? This is of course open to interpretation, but let's define \"highest quality\" here as the number of times a singer appears in the top 100 over this time period. If a singer appears twice in a year (for different songs), this is counted as two appearances, not one. \n",
    "\n",
    "Make a bar-plot of the most prolific singers. Singers on this chart should have appeared at-least more than 15 times. (HINT: look at the docs for the pandas method `value_counts`.)\n"
   ]
  },
  {
   "cell_type": "markdown",
   "metadata": {},
   "source": [
    "#### 1.6 What if we used a different metric?"
   ]
  },
  {
   "cell_type": "markdown",
   "metadata": {},
   "source": [
    "What we would like to capture is this: a singer should to be scored higher if the singer appears higher in the rankings. So we'd say that a singer who appeared once at a higher and once at a lower ranking is a \"higher quality\" singer than one who appeared twice at a lower ranking. \n",
    "\n",
    "To do this, group all of a singers songs together and assign each song a score `101 - ranking`. Order the singers by their total score and make a bar chart for the top 20.\n"
   ]
  },
  {
   "cell_type": "markdown",
   "metadata": {},
   "source": [
    "#### 1.7 Do you notice any major differences when you change the metric?\n",
    "\n",
    "How have the singers at the top shifted places? Why do you think this happens?"
   ]
  },
  {
   "cell_type": "markdown",
   "metadata": {},
   "source": [
    "## Q2. Scraping and Constructing: Information about Artists, Bands and Genres from Wikipedia"
   ]
  },
  {
   "cell_type": "markdown",
   "metadata": {},
   "source": [
    "Our next job is to use those band/singer urls we collected under `flatframe.url` and get information about singers and/or bands."
   ]
  },
  {
   "cell_type": "markdown",
   "metadata": {},
   "source": [
    "### Scrape information about artists from wikipedia"
   ]
  },
  {
   "cell_type": "markdown",
   "metadata": {},
   "source": [
    "We wish to fetch information about the singers or groups for all the winning songs in a list of years.\n",
    "\n",
    "Here we show a function that fetches information about a singer or group from their url on wikipedia. We create a cache object `urlcache` that will avoid redundant HTTP requests (e.g. an artist might have multiple singles on a single year, or be on the list over a span of years). Once we have fetched information about an artist, we don't need to do it again. The caching also helps if the network goes down, or the target website is having some problems. You simply need to run the `get_page` function below again, and the `urlcache` dictionary will continue to be filled.\n",
    "\n",
    "If the request gets an HTTP return code different from 200, (such as a 404 not found or 500 Internal Server Error) the cells for that URL will have a value of 1; and if the request completely fails (e.g. no network connection) the cell will have a value of 2. This will allow you to analyse the failed requests.\n",
    "\n",
    "Notice that we have wrapped the call in whats called _an exception block_. We try to make the request. If it fails entirely, or returns a HTTP code thats not 200, we set the status to 2 and 1 respectively."
   ]
  },
  {
   "cell_type": "code",
   "execution_count": 9,
   "metadata": {
    "collapsed": true,
    "scrolled": true
   },
   "outputs": [],
   "source": [
    "urlcache={}\n"
   ]
  },
  {
   "cell_type": "code",
   "execution_count": 10,
   "metadata": {
    "collapsed": true,
    "scrolled": true
   },
   "outputs": [],
   "source": [
    "def get_page(url):\n",
    "    # Check if URL has already been visited.\n",
    "    if (url not in urlcache) or (urlcache[url]==1) or (urlcache[url]==2):\n",
    "        time.sleep(1)\n",
    "        # try/except blocks are used whenever the code could generate an exception (e.g. division by zero).\n",
    "        # In this case we don't know if the page really exists, or even if it does, if we'll be able to reach it.\n",
    "        try:\n",
    "            r = requests.get(\"http://en.wikipedia.org%s\" % url)\n",
    "\n",
    "            if r.status_code == 200:\n",
    "                urlcache[url] = r.text\n",
    "            else:\n",
    "                urlcache[url] = 1\n",
    "        except:\n",
    "            urlcache[url] = 2\n",
    "    return urlcache[url]\n"
   ]
  },
  {
   "cell_type": "markdown",
   "metadata": {},
   "source": [
    "We sort the `flatframe` by year, ascending, first. Think why."
   ]
  },
  {
   "cell_type": "code",
   "execution_count": null,
   "metadata": {
    "collapsed": true,
    "scrolled": true
   },
   "outputs": [],
   "source": [
    "flatframe=flatframe.sort_values('year')\n",
    "flatframe.head()"
   ]
  },
  {
   "cell_type": "markdown",
   "metadata": {},
   "source": [
    "#### Pulling and saving the data"
   ]
  },
  {
   "cell_type": "code",
   "execution_count": null,
   "metadata": {
    "collapsed": true,
    "scrolled": true
   },
   "outputs": [],
   "source": [
    "# DO NOT RERUN THIS CELL WHEN SUBMITTING\n",
    "# Here we are populating the url cache\n",
    "# subsequent calls to this cell should be very fast, since Python won't\n",
    "# need to fetch the page from the web server.\n",
    "# NOTE this function will take quite some time to run (about 30 mins for me), since we sleep 1 second before\n",
    "# making a request. If you run it again it will be almost instantaneous, save requests that might have failed\n",
    "# (you will need to run it again if requests fail..see cell below for how to test this)\n",
    "flatframe[\"url\"].apply(get_page)"
   ]
  },
  {
   "cell_type": "markdown",
   "metadata": {},
   "source": [
    "You may have to run this function again and again, in case there were network problems. Note that, because there is a \"global\" cache, it will take less time each time you run it. Also note that this function is designed to be run again and again: it attempts to make sure that there are no unresolved pages remaining. Let us make sure of this: *the sum below should be 0, and the boolean True.*"
   ]
  },
  {
   "cell_type": "code",
   "execution_count": null,
   "metadata": {
    "collapsed": true,
    "scrolled": true
   },
   "outputs": [],
   "source": [
    "# DO NOT RERUN THIS CELL WHEN SUBMITTING\n",
    "print(\"Number of bad requests:\",np.sum([(urlcache[k]==1) or (urlcache[k]==2) for k in urlcache])) # no one or 0's)\n",
    "print(\"Did we get all urls?\", len(flatframe.url.unique())==len(urlcache)) # we got all of the urls"
   ]
  },
  {
   "cell_type": "markdown",
   "metadata": {},
   "source": [
    "Let's save the `urlcache` to disk, just in case we need it again."
   ]
  },
  {
   "cell_type": "code",
   "execution_count": null,
   "metadata": {
    "collapsed": true
   },
   "outputs": [],
   "source": [
    "# DO NOT RERUN THIS CELL WHEN SUBMITTING\n",
    "with open(\"data/artistinfo.json\",\"w\") as fd:\n",
    "    json.dump(urlcache, fd)\n",
    "del urlcache"
   ]
  },
  {
   "cell_type": "code",
   "execution_count": null,
   "metadata": {
    "collapsed": true,
    "scrolled": false
   },
   "outputs": [],
   "source": [
    "# RERUN WHEN SUBMITTING\n",
    "with open(\"data/artistinfo.json\") as json_file:\n",
    "    urlcache = json.load(json_file)"
   ]
  },
  {
   "cell_type": "markdown",
   "metadata": {},
   "source": [
    "#### 2.1 Extract information about singers and bands"
   ]
  },
  {
   "cell_type": "markdown",
   "metadata": {},
   "source": [
    "From each page we collected about a singer or a band, extract the following information:\n",
    "\n",
    "1. If the page has the text \"Born\" in the sidebar on the right, extract the element with the class `.bday`. If the page doesn't contain \"Born\", store `False`.  Store either of these into the variable `born`. We want to analyze the artist's age.\n",
    "\n",
    "2. If the text \"Years active\" is found, but no \"born\", assume a band. Store into the variable `ya` the value of the next table cell corresponding to this, or `False` if the text is not found.\n",
    "\n",
    "Put this all into a function `singer_band_info` which takes the singer/band url as argument and returns a dictionary `dict(url=url, born=born, ya=ya)`.\n",
    "\n",
    "The information can be found on the sidebar on each such wikipedia page, as the example here shows:\n",
    "\n",
    "![sandg](https://raw.githubusercontent.com/cs109/a-2017/master/hwassets/images/sandg.png).\n",
    "\n"
   ]
  },
  {
   "cell_type": "markdown",
   "metadata": {},
   "source": [
    "Write the function `singer_band_info` according to the following specification:"
   ]
  },
  {
   "cell_type": "code",
   "execution_count": null,
   "metadata": {
    "collapsed": true
   },
   "outputs": [],
   "source": [
    "\"\"\"\n",
    "Function\n",
    "--------\n",
    "singer_band_info\n",
    "\n",
    "Inputs\n",
    "------\n",
    "url: the url\n",
    "page_text: the text associated with the url\n",
    "   \n",
    "Returns\n",
    "-------\n",
    "A dictionary with the following data:\n",
    "    url: copy the input argument url into this value\n",
    "    born: the artist's birthday\n",
    "    ya: years active variable\n",
    "\n",
    "Notes\n",
    "-----\n",
    "See description above. Also note that some of the genres urls might require a \n",
    "bit of care and special handling.\n",
    "\"\"\""
   ]
  },
  {
   "cell_type": "markdown",
   "metadata": {},
   "source": [
    "#### 2.2  Merging this information in"
   ]
  },
  {
   "cell_type": "markdown",
   "metadata": {},
   "source": [
    "Iterate over the items in the singer-group dictionary cache `urlcache`, run the above function, and create a dataframe from there with columns `url`, `born`, and `ya`. Merge this dataframe on the `url` key with `flatframe`, creating a rather wide dataframe that we shall call `largedf`. It should look something like this:\n",
    "\n",
    "![](https://raw.githubusercontent.com/cs109/a-2017/master/hwassets/images/HW1SC3.png)\n",
    "\n",
    "Notice how the `born` and `ya` and `url` are repeated every time a different song from a given band is represented in a row."
   ]
  },
  {
   "cell_type": "markdown",
   "metadata": {},
   "source": [
    "#### 2.3 What is the age at which singers achieve their top ranking?"
   ]
  },
  {
   "cell_type": "markdown",
   "metadata": {},
   "source": [
    "Plot a histogram of the age at which singers achieve their top ranking. What conclusions can you draw from this distribution of ages?\n",
    "\n",
    "*HINT: You will need to do some manipulation of the `born` column, and find the song for which a band or an artist achieves their top ranking. You will then need to put these rows together into another dataframe or array to make the plot.*"
   ]
  },
  {
   "cell_type": "markdown",
   "metadata": {},
   "source": [
    "#### 2.4 At what year since inception do bands reach their top rankings?"
   ]
  },
  {
   "cell_type": "markdown",
   "metadata": {},
   "source": [
    "Make a similar calculation to plot a histogram of the years since inception at which bands reach their top ranking. What conclusions can you draw?"
   ]
  }
 ],
 "metadata": {
  "kernelspec": {
   "display_name": "Python 3",
   "language": "python",
   "name": "python3"
  },
  "language_info": {
   "codemirror_mode": {
    "name": "ipython",
    "version": 3
   },
   "file_extension": ".py",
   "mimetype": "text/x-python",
   "name": "python",
   "nbconvert_exporter": "python",
   "pygments_lexer": "ipython3",
   "version": "3.6.3rc1"
  }
 },
 "nbformat": 4,
 "nbformat_minor": 1
}
